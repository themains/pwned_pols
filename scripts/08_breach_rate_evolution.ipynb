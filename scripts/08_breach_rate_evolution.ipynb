{
 "cells": [
  {
   "cell_type": "markdown",
   "id": "cf35afe1-8883-4d25-9448-cd6e98848e50",
   "metadata": {
    "ExecuteTime": {
     "end_time": "2025-02-12T14:14:13.858597Z",
     "start_time": "2025-02-12T14:14:12.919599Z"
    }
   },
   "source": [
    "### Evolution of Breaches Over Time"
   ]
  },
  {
   "cell_type": "code",
   "execution_count": 1,
   "id": "cd6af286-aa04-4ada-917e-6c34f7b16358",
   "metadata": {},
   "outputs": [],
   "source": [
    "import pandas as pd\n",
    "import numpy as np\n",
    "import janitor\n",
    "from datetime import datetime\n",
    "from typing import List, Set\n",
    "import matplotlib.pyplot as plt\n",
    "import matplotlib.ticker as ticker\n",
    "from IPython.core.display import HTML\n",
    "from IPython.display import display\n",
    "import sys\n",
    "\n",
    "sys.path.append(\"/home/lsys/pwned_pols/venv/lib/python3.10/site-packages\")\n",
    "from utilities import save_mpl_fig\n",
    "import warnings\n",
    "\n",
    "warnings.filterwarnings(\"ignore\")"
   ]
  },
  {
   "cell_type": "markdown",
   "id": "ee6c50cd",
   "metadata": {},
   "source": [
    "## Emails"
   ]
  },
  {
   "cell_type": "code",
   "execution_count": 2,
   "id": "c62fabf1",
   "metadata": {
    "ExecuteTime": {
     "end_time": "2025-02-12T14:14:13.917099Z",
     "start_time": "2025-02-12T14:14:13.861366Z"
    }
   },
   "outputs": [
    {
     "ename": "ValueError",
     "evalue": "Usecols do not match columns, columns expected but not found: ['leg_start_date']",
     "output_type": "error",
     "traceback": [
      "\u001b[0;31m---------------------------------------------------------------------------\u001b[0m",
      "\u001b[0;31mValueError\u001b[0m                                Traceback (most recent call last)",
      "Cell \u001b[0;32mIn[2], line 2\u001b[0m\n\u001b[1;32m      1\u001b[0m df_emails \u001b[38;5;241m=\u001b[39m (\n\u001b[0;32m----> 2\u001b[0m     \u001b[43mpd\u001b[49m\u001b[38;5;241;43m.\u001b[39;49m\u001b[43mread_csv\u001b[49m\u001b[43m(\u001b[49m\n\u001b[1;32m      3\u001b[0m \u001b[43m        \u001b[49m\u001b[38;5;124;43m\"\u001b[39;49m\u001b[38;5;124;43m../data/email_lvl_cov.csv\u001b[39;49m\u001b[38;5;124;43m\"\u001b[39;49m\u001b[43m,\u001b[49m\n\u001b[1;32m      4\u001b[0m \u001b[43m        \u001b[49m\u001b[43musecols\u001b[49m\u001b[38;5;241;43m=\u001b[39;49m\u001b[43m[\u001b[49m\u001b[38;5;124;43m\"\u001b[39;49m\u001b[38;5;124;43memail\u001b[39;49m\u001b[38;5;124;43m\"\u001b[39;49m\u001b[43m,\u001b[49m\u001b[43m \u001b[49m\u001b[38;5;124;43m\"\u001b[39;49m\u001b[38;5;124;43msource\u001b[39;49m\u001b[38;5;124;43m\"\u001b[39;49m\u001b[43m,\u001b[49m\u001b[43m \u001b[49m\u001b[38;5;124;43m\"\u001b[39;49m\u001b[38;5;124;43mcc3\u001b[39;49m\u001b[38;5;124;43m\"\u001b[39;49m\u001b[43m,\u001b[49m\u001b[43m \u001b[49m\u001b[38;5;124;43m\"\u001b[39;49m\u001b[38;5;124;43mleg_start_date\u001b[39;49m\u001b[38;5;124;43m\"\u001b[39;49m\u001b[43m,\u001b[49m\u001b[43m \u001b[49m\u001b[38;5;124;43m\"\u001b[39;49m\u001b[38;5;124;43mleg_start_year\u001b[39;49m\u001b[38;5;124;43m\"\u001b[39;49m\u001b[43m]\u001b[49m\u001b[43m,\u001b[49m\n\u001b[1;32m      5\u001b[0m \u001b[43m    \u001b[49m\u001b[43m)\u001b[49m\n\u001b[1;32m      6\u001b[0m     \u001b[38;5;66;03m# Fix sg dates\u001b[39;00m\n\u001b[1;32m      7\u001b[0m     \u001b[38;5;241m.\u001b[39massign(\n\u001b[1;32m      8\u001b[0m         leg_start_date\u001b[38;5;241m=\u001b[39m\u001b[38;5;28;01mlambda\u001b[39;00m df: np\u001b[38;5;241m.\u001b[39mwhere(\n\u001b[1;32m      9\u001b[0m             df[\u001b[38;5;124m\"\u001b[39m\u001b[38;5;124mcc3\u001b[39m\u001b[38;5;124m\"\u001b[39m] \u001b[38;5;241m==\u001b[39m \u001b[38;5;124m\"\u001b[39m\u001b[38;5;124mSGP\u001b[39m\u001b[38;5;124m\"\u001b[39m,\n\u001b[1;32m     10\u001b[0m             df[\u001b[38;5;124m\"\u001b[39m\u001b[38;5;124mleg_start_year\u001b[39m\u001b[38;5;124m\"\u001b[39m]\u001b[38;5;241m.\u001b[39mmap(\n\u001b[1;32m     11\u001b[0m                 {\n\u001b[1;32m     12\u001b[0m                     \u001b[38;5;241m2021\u001b[39m: \u001b[38;5;124m\"\u001b[39m\u001b[38;5;124m2020-08-24\u001b[39m\u001b[38;5;124m\"\u001b[39m,\n\u001b[1;32m     13\u001b[0m                     \u001b[38;5;241m2016\u001b[39m: \u001b[38;5;124m\"\u001b[39m\u001b[38;5;124m2016-01-15\u001b[39m\u001b[38;5;124m\"\u001b[39m,\n\u001b[1;32m     14\u001b[0m                     \u001b[38;5;241m2011\u001b[39m: \u001b[38;5;124m\"\u001b[39m\u001b[38;5;124m2011-10-10\u001b[39m\u001b[38;5;124m\"\u001b[39m,\n\u001b[1;32m     15\u001b[0m                     \u001b[38;5;241m2006\u001b[39m: \u001b[38;5;124m\"\u001b[39m\u001b[38;5;124m2006-11-02\u001b[39m\u001b[38;5;124m\"\u001b[39m,\n\u001b[1;32m     16\u001b[0m                     \u001b[38;5;241m2001\u001b[39m: \u001b[38;5;124m\"\u001b[39m\u001b[38;5;124m2002-03-25\u001b[39m\u001b[38;5;124m\"\u001b[39m,\n\u001b[1;32m     17\u001b[0m                 }\n\u001b[1;32m     18\u001b[0m             ),\n\u001b[1;32m     19\u001b[0m             df[\u001b[38;5;124m\"\u001b[39m\u001b[38;5;124mleg_start_date\u001b[39m\u001b[38;5;124m\"\u001b[39m],\n\u001b[1;32m     20\u001b[0m         )\n\u001b[1;32m     21\u001b[0m     )\n\u001b[1;32m     22\u001b[0m     \u001b[38;5;241m.\u001b[39mdropna(subset\u001b[38;5;241m=\u001b[39m[\u001b[38;5;124m\"\u001b[39m\u001b[38;5;124mleg_start_date\u001b[39m\u001b[38;5;124m\"\u001b[39m], ignore_index\u001b[38;5;241m=\u001b[39m\u001b[38;5;28;01mTrue\u001b[39;00m)\n\u001b[1;32m     23\u001b[0m     \u001b[38;5;241m.\u001b[39massign(leg_start_date\u001b[38;5;241m=\u001b[39m\u001b[38;5;28;01mlambda\u001b[39;00m df_: pd\u001b[38;5;241m.\u001b[39mto_datetime(df_[\u001b[38;5;124m\"\u001b[39m\u001b[38;5;124mleg_start_date\u001b[39m\u001b[38;5;124m\"\u001b[39m]))\n\u001b[1;32m     24\u001b[0m )\n\u001b[1;32m     25\u001b[0m latest_leg_start_date \u001b[38;5;241m=\u001b[39m df_emails[\u001b[38;5;124m\"\u001b[39m\u001b[38;5;124mleg_start_date\u001b[39m\u001b[38;5;124m\"\u001b[39m]\u001b[38;5;241m.\u001b[39mmax()\n\u001b[1;32m     26\u001b[0m \u001b[38;5;28mprint\u001b[39m(latest_leg_start_date\u001b[38;5;241m.\u001b[39mdate())\n",
      "File \u001b[0;32m~/opt/anaconda3/envs/py311ds/lib/python3.11/site-packages/pandas/io/parsers/readers.py:1026\u001b[0m, in \u001b[0;36mread_csv\u001b[0;34m(filepath_or_buffer, sep, delimiter, header, names, index_col, usecols, dtype, engine, converters, true_values, false_values, skipinitialspace, skiprows, skipfooter, nrows, na_values, keep_default_na, na_filter, verbose, skip_blank_lines, parse_dates, infer_datetime_format, keep_date_col, date_parser, date_format, dayfirst, cache_dates, iterator, chunksize, compression, thousands, decimal, lineterminator, quotechar, quoting, doublequote, escapechar, comment, encoding, encoding_errors, dialect, on_bad_lines, delim_whitespace, low_memory, memory_map, float_precision, storage_options, dtype_backend)\u001b[0m\n\u001b[1;32m   1013\u001b[0m kwds_defaults \u001b[38;5;241m=\u001b[39m _refine_defaults_read(\n\u001b[1;32m   1014\u001b[0m     dialect,\n\u001b[1;32m   1015\u001b[0m     delimiter,\n\u001b[0;32m   (...)\u001b[0m\n\u001b[1;32m   1022\u001b[0m     dtype_backend\u001b[38;5;241m=\u001b[39mdtype_backend,\n\u001b[1;32m   1023\u001b[0m )\n\u001b[1;32m   1024\u001b[0m kwds\u001b[38;5;241m.\u001b[39mupdate(kwds_defaults)\n\u001b[0;32m-> 1026\u001b[0m \u001b[38;5;28;01mreturn\u001b[39;00m \u001b[43m_read\u001b[49m\u001b[43m(\u001b[49m\u001b[43mfilepath_or_buffer\u001b[49m\u001b[43m,\u001b[49m\u001b[43m \u001b[49m\u001b[43mkwds\u001b[49m\u001b[43m)\u001b[49m\n",
      "File \u001b[0;32m~/opt/anaconda3/envs/py311ds/lib/python3.11/site-packages/pandas/io/parsers/readers.py:620\u001b[0m, in \u001b[0;36m_read\u001b[0;34m(filepath_or_buffer, kwds)\u001b[0m\n\u001b[1;32m    617\u001b[0m _validate_names(kwds\u001b[38;5;241m.\u001b[39mget(\u001b[38;5;124m\"\u001b[39m\u001b[38;5;124mnames\u001b[39m\u001b[38;5;124m\"\u001b[39m, \u001b[38;5;28;01mNone\u001b[39;00m))\n\u001b[1;32m    619\u001b[0m \u001b[38;5;66;03m# Create the parser.\u001b[39;00m\n\u001b[0;32m--> 620\u001b[0m parser \u001b[38;5;241m=\u001b[39m \u001b[43mTextFileReader\u001b[49m\u001b[43m(\u001b[49m\u001b[43mfilepath_or_buffer\u001b[49m\u001b[43m,\u001b[49m\u001b[43m \u001b[49m\u001b[38;5;241;43m*\u001b[39;49m\u001b[38;5;241;43m*\u001b[39;49m\u001b[43mkwds\u001b[49m\u001b[43m)\u001b[49m\n\u001b[1;32m    622\u001b[0m \u001b[38;5;28;01mif\u001b[39;00m chunksize \u001b[38;5;129;01mor\u001b[39;00m iterator:\n\u001b[1;32m    623\u001b[0m     \u001b[38;5;28;01mreturn\u001b[39;00m parser\n",
      "File \u001b[0;32m~/opt/anaconda3/envs/py311ds/lib/python3.11/site-packages/pandas/io/parsers/readers.py:1620\u001b[0m, in \u001b[0;36mTextFileReader.__init__\u001b[0;34m(self, f, engine, **kwds)\u001b[0m\n\u001b[1;32m   1617\u001b[0m     \u001b[38;5;28mself\u001b[39m\u001b[38;5;241m.\u001b[39moptions[\u001b[38;5;124m\"\u001b[39m\u001b[38;5;124mhas_index_names\u001b[39m\u001b[38;5;124m\"\u001b[39m] \u001b[38;5;241m=\u001b[39m kwds[\u001b[38;5;124m\"\u001b[39m\u001b[38;5;124mhas_index_names\u001b[39m\u001b[38;5;124m\"\u001b[39m]\n\u001b[1;32m   1619\u001b[0m \u001b[38;5;28mself\u001b[39m\u001b[38;5;241m.\u001b[39mhandles: IOHandles \u001b[38;5;241m|\u001b[39m \u001b[38;5;28;01mNone\u001b[39;00m \u001b[38;5;241m=\u001b[39m \u001b[38;5;28;01mNone\u001b[39;00m\n\u001b[0;32m-> 1620\u001b[0m \u001b[38;5;28mself\u001b[39m\u001b[38;5;241m.\u001b[39m_engine \u001b[38;5;241m=\u001b[39m \u001b[38;5;28;43mself\u001b[39;49m\u001b[38;5;241;43m.\u001b[39;49m\u001b[43m_make_engine\u001b[49m\u001b[43m(\u001b[49m\u001b[43mf\u001b[49m\u001b[43m,\u001b[49m\u001b[43m \u001b[49m\u001b[38;5;28;43mself\u001b[39;49m\u001b[38;5;241;43m.\u001b[39;49m\u001b[43mengine\u001b[49m\u001b[43m)\u001b[49m\n",
      "File \u001b[0;32m~/opt/anaconda3/envs/py311ds/lib/python3.11/site-packages/pandas/io/parsers/readers.py:1898\u001b[0m, in \u001b[0;36mTextFileReader._make_engine\u001b[0;34m(self, f, engine)\u001b[0m\n\u001b[1;32m   1895\u001b[0m     \u001b[38;5;28;01mraise\u001b[39;00m \u001b[38;5;167;01mValueError\u001b[39;00m(msg)\n\u001b[1;32m   1897\u001b[0m \u001b[38;5;28;01mtry\u001b[39;00m:\n\u001b[0;32m-> 1898\u001b[0m     \u001b[38;5;28;01mreturn\u001b[39;00m \u001b[43mmapping\u001b[49m\u001b[43m[\u001b[49m\u001b[43mengine\u001b[49m\u001b[43m]\u001b[49m\u001b[43m(\u001b[49m\u001b[43mf\u001b[49m\u001b[43m,\u001b[49m\u001b[43m \u001b[49m\u001b[38;5;241;43m*\u001b[39;49m\u001b[38;5;241;43m*\u001b[39;49m\u001b[38;5;28;43mself\u001b[39;49m\u001b[38;5;241;43m.\u001b[39;49m\u001b[43moptions\u001b[49m\u001b[43m)\u001b[49m\n\u001b[1;32m   1899\u001b[0m \u001b[38;5;28;01mexcept\u001b[39;00m \u001b[38;5;167;01mException\u001b[39;00m:\n\u001b[1;32m   1900\u001b[0m     \u001b[38;5;28;01mif\u001b[39;00m \u001b[38;5;28mself\u001b[39m\u001b[38;5;241m.\u001b[39mhandles \u001b[38;5;129;01mis\u001b[39;00m \u001b[38;5;129;01mnot\u001b[39;00m \u001b[38;5;28;01mNone\u001b[39;00m:\n",
      "File \u001b[0;32m~/opt/anaconda3/envs/py311ds/lib/python3.11/site-packages/pandas/io/parsers/c_parser_wrapper.py:140\u001b[0m, in \u001b[0;36mCParserWrapper.__init__\u001b[0;34m(self, src, **kwds)\u001b[0m\n\u001b[1;32m    136\u001b[0m \u001b[38;5;28;01massert\u001b[39;00m \u001b[38;5;28mself\u001b[39m\u001b[38;5;241m.\u001b[39morig_names \u001b[38;5;129;01mis\u001b[39;00m \u001b[38;5;129;01mnot\u001b[39;00m \u001b[38;5;28;01mNone\u001b[39;00m\n\u001b[1;32m    137\u001b[0m \u001b[38;5;28;01mif\u001b[39;00m \u001b[38;5;28mself\u001b[39m\u001b[38;5;241m.\u001b[39musecols_dtype \u001b[38;5;241m==\u001b[39m \u001b[38;5;124m\"\u001b[39m\u001b[38;5;124mstring\u001b[39m\u001b[38;5;124m\"\u001b[39m \u001b[38;5;129;01mand\u001b[39;00m \u001b[38;5;129;01mnot\u001b[39;00m \u001b[38;5;28mset\u001b[39m(usecols)\u001b[38;5;241m.\u001b[39missubset(\n\u001b[1;32m    138\u001b[0m     \u001b[38;5;28mself\u001b[39m\u001b[38;5;241m.\u001b[39morig_names\n\u001b[1;32m    139\u001b[0m ):\n\u001b[0;32m--> 140\u001b[0m     \u001b[38;5;28;43mself\u001b[39;49m\u001b[38;5;241;43m.\u001b[39;49m\u001b[43m_validate_usecols_names\u001b[49m\u001b[43m(\u001b[49m\u001b[43musecols\u001b[49m\u001b[43m,\u001b[49m\u001b[43m \u001b[49m\u001b[38;5;28;43mself\u001b[39;49m\u001b[38;5;241;43m.\u001b[39;49m\u001b[43morig_names\u001b[49m\u001b[43m)\u001b[49m\n\u001b[1;32m    142\u001b[0m \u001b[38;5;66;03m# error: Cannot determine type of 'names'\u001b[39;00m\n\u001b[1;32m    143\u001b[0m \u001b[38;5;28;01mif\u001b[39;00m \u001b[38;5;28mlen\u001b[39m(\u001b[38;5;28mself\u001b[39m\u001b[38;5;241m.\u001b[39mnames) \u001b[38;5;241m>\u001b[39m \u001b[38;5;28mlen\u001b[39m(usecols):  \u001b[38;5;66;03m# type: ignore[has-type]\u001b[39;00m\n\u001b[1;32m    144\u001b[0m     \u001b[38;5;66;03m# error: Cannot determine type of 'names'\u001b[39;00m\n",
      "File \u001b[0;32m~/opt/anaconda3/envs/py311ds/lib/python3.11/site-packages/pandas/io/parsers/base_parser.py:979\u001b[0m, in \u001b[0;36mParserBase._validate_usecols_names\u001b[0;34m(self, usecols, names)\u001b[0m\n\u001b[1;32m    977\u001b[0m missing \u001b[38;5;241m=\u001b[39m [c \u001b[38;5;28;01mfor\u001b[39;00m c \u001b[38;5;129;01min\u001b[39;00m usecols \u001b[38;5;28;01mif\u001b[39;00m c \u001b[38;5;129;01mnot\u001b[39;00m \u001b[38;5;129;01min\u001b[39;00m names]\n\u001b[1;32m    978\u001b[0m \u001b[38;5;28;01mif\u001b[39;00m \u001b[38;5;28mlen\u001b[39m(missing) \u001b[38;5;241m>\u001b[39m \u001b[38;5;241m0\u001b[39m:\n\u001b[0;32m--> 979\u001b[0m     \u001b[38;5;28;01mraise\u001b[39;00m \u001b[38;5;167;01mValueError\u001b[39;00m(\n\u001b[1;32m    980\u001b[0m         \u001b[38;5;124mf\u001b[39m\u001b[38;5;124m\"\u001b[39m\u001b[38;5;124mUsecols do not match columns, columns expected but not found: \u001b[39m\u001b[38;5;124m\"\u001b[39m\n\u001b[1;32m    981\u001b[0m         \u001b[38;5;124mf\u001b[39m\u001b[38;5;124m\"\u001b[39m\u001b[38;5;132;01m{\u001b[39;00mmissing\u001b[38;5;132;01m}\u001b[39;00m\u001b[38;5;124m\"\u001b[39m\n\u001b[1;32m    982\u001b[0m     )\n\u001b[1;32m    984\u001b[0m \u001b[38;5;28;01mreturn\u001b[39;00m usecols\n",
      "\u001b[0;31mValueError\u001b[0m: Usecols do not match columns, columns expected but not found: ['leg_start_date']"
     ]
    }
   ],
   "source": [
    "df_emails = (\n",
    "    pd.read_csv(\n",
    "        \"../data/email_lvl_cov.csv\",\n",
    "        usecols=[\"email\", \"source\", \"cc3\", \"leg_start_date\", \"leg_start_year\"],\n",
    "    )\n",
    "    # Fix sg dates\n",
    "    .assign(\n",
    "        leg_start_date=lambda df: np.where(\n",
    "            df[\"cc3\"] == \"SGP\",\n",
    "            df[\"leg_start_year\"].map(\n",
    "                {\n",
    "                    2021: \"2020-08-24\",\n",
    "                    2016: \"2016-01-15\",\n",
    "                    2011: \"2011-10-10\",\n",
    "                    2006: \"2006-11-02\",\n",
    "                    2001: \"2002-03-25\",\n",
    "                }\n",
    "            ),\n",
    "            df[\"leg_start_date\"],\n",
    "        )\n",
    "    )\n",
    "    .dropna(subset=[\"leg_start_date\"], ignore_index=True)\n",
    "    .assign(leg_start_date=lambda df_: pd.to_datetime(df_[\"leg_start_date\"]))\n",
    ")\n",
    "latest_leg_start_date = df_emails[\"leg_start_date\"].max()\n",
    "print(latest_leg_start_date.date())\n",
    "print(df_emails[\"leg_start_date\"].nunique())\n",
    "df_emails"
   ]
  },
  {
   "cell_type": "code",
   "execution_count": 3,
   "id": "969fc124",
   "metadata": {
    "ExecuteTime": {
     "end_time": "2025-02-12T14:14:13.929755Z",
     "start_time": "2025-02-12T14:14:13.919222Z"
    }
   },
   "outputs": [
    {
     "data": {
      "text/plain": [
       "DatetimeIndex(['1997-05-01', '1997-05-02', '1997-05-03', '1997-05-04',\n",
       "               '1997-05-05', '1997-05-06', '1997-05-07', '1997-05-08',\n",
       "               '1997-05-09', '1997-05-10',\n",
       "               ...\n",
       "               '2025-01-23', '2025-01-24', '2025-01-25', '2025-01-26',\n",
       "               '2025-01-27', '2025-01-28', '2025-01-29', '2025-01-30',\n",
       "               '2025-01-31', '2025-02-01'],\n",
       "              dtype='datetime64[ns]', length=10139, freq='D')"
      ]
     },
     "execution_count": 3,
     "metadata": {},
     "output_type": "execute_result"
    }
   ],
   "source": [
    "# Get all dates\n",
    "dates_ts = pd.date_range(\n",
    "    start=df_emails[\"leg_start_date\"].min(), end=pd.Timestamp(\"2025-02-01\"), freq=\"D\"\n",
    ")\n",
    "dates_ts"
   ]
  },
  {
   "cell_type": "code",
   "execution_count": 4,
   "id": "756d334d",
   "metadata": {
    "ExecuteTime": {
     "end_time": "2025-02-12T14:14:13.938034Z",
     "start_time": "2025-02-12T14:14:13.932645Z"
    }
   },
   "outputs": [],
   "source": [
    "def emails_active_on(d: datetime, dataframe=df_emails) -> List[str]:\n",
    "    \"\"\"\n",
    "    Retrieve a list of emails active on or after a given date.\n",
    "\n",
    "    Parameters:\n",
    "    d (pd.Timestamp): The date to check against 'leg_start_date'.\n",
    "\n",
    "    Returns:\n",
    "    List[str]: A list of email addresses active on or before the given date.\n",
    "\n",
    "    Notes:\n",
    "    - Uses 'leg_start_date' as the threshold.\n",
    "    - Compares dates using '≤' (less than or equal to), meaning emails\n",
    "      with a start date on or before 'd' are considered active.\n",
    "    \"\"\"\n",
    "    return dataframe.loc[df_emails[\"leg_start_date\"] <= d, \"email\"].tolist()"
   ]
  },
  {
   "cell_type": "code",
   "execution_count": 5,
   "id": "f8c927e6",
   "metadata": {
    "ExecuteTime": {
     "end_time": "2025-02-12T14:14:17.851503Z",
     "start_time": "2025-02-12T14:14:13.940643Z"
    }
   },
   "outputs": [
    {
     "data": {
      "text/html": [
       "<div>\n",
       "<style scoped>\n",
       "    .dataframe tbody tr th:only-of-type {\n",
       "        vertical-align: middle;\n",
       "    }\n",
       "\n",
       "    .dataframe tbody tr th {\n",
       "        vertical-align: top;\n",
       "    }\n",
       "\n",
       "    .dataframe thead th {\n",
       "        text-align: right;\n",
       "    }\n",
       "</style>\n",
       "<table border=\"1\" class=\"dataframe\">\n",
       "  <thead>\n",
       "    <tr style=\"text-align: right;\">\n",
       "      <th></th>\n",
       "      <th>date</th>\n",
       "      <th>emails</th>\n",
       "      <th>n_emails</th>\n",
       "    </tr>\n",
       "  </thead>\n",
       "  <tbody>\n",
       "    <tr>\n",
       "      <th>0</th>\n",
       "      <td>1997-05-01</td>\n",
       "      <td>[alan.campbell.mp@parliament.uk, alan.duncan.m...</td>\n",
       "      <td>117</td>\n",
       "    </tr>\n",
       "    <tr>\n",
       "      <th>1</th>\n",
       "      <td>1997-05-02</td>\n",
       "      <td>[alan.campbell.mp@parliament.uk, alan.duncan.m...</td>\n",
       "      <td>117</td>\n",
       "    </tr>\n",
       "    <tr>\n",
       "      <th>2</th>\n",
       "      <td>1997-05-03</td>\n",
       "      <td>[alan.campbell.mp@parliament.uk, alan.duncan.m...</td>\n",
       "      <td>117</td>\n",
       "    </tr>\n",
       "    <tr>\n",
       "      <th>3</th>\n",
       "      <td>1997-05-04</td>\n",
       "      <td>[alan.campbell.mp@parliament.uk, alan.duncan.m...</td>\n",
       "      <td>117</td>\n",
       "    </tr>\n",
       "    <tr>\n",
       "      <th>4</th>\n",
       "      <td>1997-05-05</td>\n",
       "      <td>[alan.campbell.mp@parliament.uk, alan.duncan.m...</td>\n",
       "      <td>117</td>\n",
       "    </tr>\n",
       "    <tr>\n",
       "      <th>...</th>\n",
       "      <td>...</td>\n",
       "      <td>...</td>\n",
       "      <td>...</td>\n",
       "    </tr>\n",
       "    <tr>\n",
       "      <th>10134</th>\n",
       "      <td>2025-01-28</td>\n",
       "      <td>[albana.vokshi@parlament.al, aldo.bumci@parlam...</td>\n",
       "      <td>9200</td>\n",
       "    </tr>\n",
       "    <tr>\n",
       "      <th>10135</th>\n",
       "      <td>2025-01-29</td>\n",
       "      <td>[albana.vokshi@parlament.al, aldo.bumci@parlam...</td>\n",
       "      <td>9200</td>\n",
       "    </tr>\n",
       "    <tr>\n",
       "      <th>10136</th>\n",
       "      <td>2025-01-30</td>\n",
       "      <td>[albana.vokshi@parlament.al, aldo.bumci@parlam...</td>\n",
       "      <td>9200</td>\n",
       "    </tr>\n",
       "    <tr>\n",
       "      <th>10137</th>\n",
       "      <td>2025-01-31</td>\n",
       "      <td>[albana.vokshi@parlament.al, aldo.bumci@parlam...</td>\n",
       "      <td>9200</td>\n",
       "    </tr>\n",
       "    <tr>\n",
       "      <th>10138</th>\n",
       "      <td>2025-02-01</td>\n",
       "      <td>[albana.vokshi@parlament.al, aldo.bumci@parlam...</td>\n",
       "      <td>9200</td>\n",
       "    </tr>\n",
       "  </tbody>\n",
       "</table>\n",
       "<p>10139 rows × 3 columns</p>\n",
       "</div>"
      ],
      "text/plain": [
       "            date                                             emails  n_emails\n",
       "0     1997-05-01  [alan.campbell.mp@parliament.uk, alan.duncan.m...       117\n",
       "1     1997-05-02  [alan.campbell.mp@parliament.uk, alan.duncan.m...       117\n",
       "2     1997-05-03  [alan.campbell.mp@parliament.uk, alan.duncan.m...       117\n",
       "3     1997-05-04  [alan.campbell.mp@parliament.uk, alan.duncan.m...       117\n",
       "4     1997-05-05  [alan.campbell.mp@parliament.uk, alan.duncan.m...       117\n",
       "...          ...                                                ...       ...\n",
       "10134 2025-01-28  [albana.vokshi@parlament.al, aldo.bumci@parlam...      9200\n",
       "10135 2025-01-29  [albana.vokshi@parlament.al, aldo.bumci@parlam...      9200\n",
       "10136 2025-01-30  [albana.vokshi@parlament.al, aldo.bumci@parlam...      9200\n",
       "10137 2025-01-31  [albana.vokshi@parlament.al, aldo.bumci@parlam...      9200\n",
       "10138 2025-02-01  [albana.vokshi@parlament.al, aldo.bumci@parlam...      9200\n",
       "\n",
       "[10139 rows x 3 columns]"
      ]
     },
     "execution_count": 5,
     "metadata": {},
     "output_type": "execute_result"
    }
   ],
   "source": [
    "# init TS of cumulative emails and breaches\n",
    "df_dates = (\n",
    "    pd.DataFrame({\"date\": dates_ts})\n",
    "    .assign(emails=lambda df_: df_[\"date\"].apply(emails_active_on))\n",
    "    .assign(n_emails=lambda df_: df_[\"emails\"].apply(len))\n",
    ")\n",
    "df_dates"
   ]
  },
  {
   "cell_type": "markdown",
   "id": "b4d8b16e",
   "metadata": {},
   "source": [
    "## HIBP"
   ]
  },
  {
   "cell_type": "code",
   "execution_count": 6,
   "id": "9f2c6268",
   "metadata": {
    "ExecuteTime": {
     "end_time": "2025-02-12T14:14:20.020255Z",
     "start_time": "2025-02-12T14:14:17.853735Z"
    }
   },
   "outputs": [
    {
     "data": {
      "text/html": [
       "<div>\n",
       "<style scoped>\n",
       "    .dataframe tbody tr th:only-of-type {\n",
       "        vertical-align: middle;\n",
       "    }\n",
       "\n",
       "    .dataframe tbody tr th {\n",
       "        vertical-align: top;\n",
       "    }\n",
       "\n",
       "    .dataframe thead th {\n",
       "        text-align: right;\n",
       "    }\n",
       "</style>\n",
       "<table border=\"1\" class=\"dataframe\">\n",
       "  <thead>\n",
       "    <tr style=\"text-align: right;\">\n",
       "      <th></th>\n",
       "      <th>email</th>\n",
       "      <th>breach</th>\n",
       "      <th>breachdate</th>\n",
       "    </tr>\n",
       "  </thead>\n",
       "  <tbody>\n",
       "    <tr>\n",
       "      <th>0</th>\n",
       "      <td>123@abc.com</td>\n",
       "      <td>VNG</td>\n",
       "      <td>2015-05-19</td>\n",
       "    </tr>\n",
       "    <tr>\n",
       "      <th>1</th>\n",
       "      <td>123@abc.com</td>\n",
       "      <td>VerificationsIO</td>\n",
       "      <td>2019-02-25</td>\n",
       "    </tr>\n",
       "    <tr>\n",
       "      <th>2</th>\n",
       "      <td>123@abc.com</td>\n",
       "      <td>Stratfor</td>\n",
       "      <td>2011-12-24</td>\n",
       "    </tr>\n",
       "    <tr>\n",
       "      <th>3</th>\n",
       "      <td>123@abc.com</td>\n",
       "      <td>Lastfm</td>\n",
       "      <td>2012-03-22</td>\n",
       "    </tr>\n",
       "    <tr>\n",
       "      <th>4</th>\n",
       "      <td>123@abc.com</td>\n",
       "      <td>Zomato</td>\n",
       "      <td>2017-05-17</td>\n",
       "    </tr>\n",
       "    <tr>\n",
       "      <th>...</th>\n",
       "      <td>...</td>\n",
       "      <td>...</td>\n",
       "      <td>...</td>\n",
       "    </tr>\n",
       "    <tr>\n",
       "      <th>14316</th>\n",
       "      <td>zmakhubele@parliament.gov.za</td>\n",
       "      <td>LinkedInScrape</td>\n",
       "      <td>2021-04-08</td>\n",
       "    </tr>\n",
       "    <tr>\n",
       "      <th>14317</th>\n",
       "      <td>zoltan.tessely@parlament.hu</td>\n",
       "      <td>Cit0day</td>\n",
       "      <td>2020-11-04</td>\n",
       "    </tr>\n",
       "    <tr>\n",
       "      <th>14318</th>\n",
       "      <td>zrantho@parliament.gov.za</td>\n",
       "      <td>db8151dd</td>\n",
       "      <td>2020-02-20</td>\n",
       "    </tr>\n",
       "    <tr>\n",
       "      <th>14319</th>\n",
       "      <td>zuzana_zimenova@nrsr.sk</td>\n",
       "      <td>PDL</td>\n",
       "      <td>2019-10-16</td>\n",
       "    </tr>\n",
       "    <tr>\n",
       "      <th>14320</th>\n",
       "      <td>zzachariou@parliament.cy</td>\n",
       "      <td>db8151dd</td>\n",
       "      <td>2020-02-20</td>\n",
       "    </tr>\n",
       "  </tbody>\n",
       "</table>\n",
       "<p>14321 rows × 3 columns</p>\n",
       "</div>"
      ],
      "text/plain": [
       "                              email           breach breachdate\n",
       "0                       123@abc.com              VNG 2015-05-19\n",
       "1                       123@abc.com  VerificationsIO 2019-02-25\n",
       "2                       123@abc.com         Stratfor 2011-12-24\n",
       "3                       123@abc.com           Lastfm 2012-03-22\n",
       "4                       123@abc.com           Zomato 2017-05-17\n",
       "...                             ...              ...        ...\n",
       "14316  zmakhubele@parliament.gov.za   LinkedInScrape 2021-04-08\n",
       "14317   zoltan.tessely@parlament.hu          Cit0day 2020-11-04\n",
       "14318     zrantho@parliament.gov.za         db8151dd 2020-02-20\n",
       "14319       zuzana_zimenova@nrsr.sk              PDL 2019-10-16\n",
       "14320      zzachariou@parliament.cy         db8151dd 2020-02-20\n",
       "\n",
       "[14321 rows x 3 columns]"
      ]
     },
     "execution_count": 6,
     "metadata": {},
     "output_type": "execute_result"
    }
   ],
   "source": [
    "df_hibp = (\n",
    "    pd.concat(\n",
    "        [\n",
    "            pd.read_csv(\"../data/everypol_hibp.csv\"),\n",
    "            pd.read_csv(\"../data/scraped_pol_hibp.csv\"),\n",
    "        ],\n",
    "        ignore_index=True,\n",
    "    )\n",
    "    .clean_names()\n",
    "    .query(\"present==True\")\n",
    "    .remove_columns(\"present\")\n",
    "    .rename_column(\"filename\", \"email\")\n",
    "    .sort_values([\"email\"], ignore_index=True)\n",
    "    # =============================================================\n",
    "    .merge(\n",
    "        (\n",
    "            pd.read_csv(\"../data/breaches_01_2025.csv\")\n",
    "            .clean_names()\n",
    "            .rename_column(\"name\", \"breach\")\n",
    "            #             .filter([\"breach\", \"breachdate\", \"addeddate\"])\n",
    "            .filter([\"breach\", \"breachdate\"])\n",
    "            #             .rename_column(\"breachdate\")\n",
    "        ),\n",
    "        how=\"left\",\n",
    "        on=\"breach\",\n",
    "        validate=\"m:1\",\n",
    "    )\n",
    "    # =============================================================\n",
    "    .assign(breachdate=lambda df_: pd.to_datetime(df_[\"breachdate\"]))\n",
    ")\n",
    "df_hibp"
   ]
  },
  {
   "cell_type": "code",
   "execution_count": 7,
   "id": "c7faf43b",
   "metadata": {
    "ExecuteTime": {
     "end_time": "2025-02-12T14:14:20.037318Z",
     "start_time": "2025-02-12T14:14:20.022397Z"
    }
   },
   "outputs": [
    {
     "data": {
      "text/html": [
       "<div>\n",
       "<style scoped>\n",
       "    .dataframe tbody tr th:only-of-type {\n",
       "        vertical-align: middle;\n",
       "    }\n",
       "\n",
       "    .dataframe tbody tr th {\n",
       "        vertical-align: top;\n",
       "    }\n",
       "\n",
       "    .dataframe thead th {\n",
       "        text-align: right;\n",
       "    }\n",
       "</style>\n",
       "<table border=\"1\" class=\"dataframe\">\n",
       "  <thead>\n",
       "    <tr style=\"text-align: right;\">\n",
       "      <th></th>\n",
       "      <th>email</th>\n",
       "      <th>earliest_breachdate</th>\n",
       "    </tr>\n",
       "  </thead>\n",
       "  <tbody>\n",
       "    <tr>\n",
       "      <th>0</th>\n",
       "      <td>123@abc.com</td>\n",
       "      <td>2007-07-12</td>\n",
       "    </tr>\n",
       "    <tr>\n",
       "      <th>1</th>\n",
       "      <td>123@gmail.com</td>\n",
       "      <td>2008-07-01</td>\n",
       "    </tr>\n",
       "    <tr>\n",
       "      <th>2</th>\n",
       "      <td>2016kimss@gmail.com</td>\n",
       "      <td>2021-09-13</td>\n",
       "    </tr>\n",
       "    <tr>\n",
       "      <th>3</th>\n",
       "      <td>2ashokrai@gmail.com</td>\n",
       "      <td>2016-10-08</td>\n",
       "    </tr>\n",
       "    <tr>\n",
       "      <th>4</th>\n",
       "      <td>2yangs6288@naver.com</td>\n",
       "      <td>2024-05-28</td>\n",
       "    </tr>\n",
       "  </tbody>\n",
       "</table>\n",
       "</div>"
      ],
      "text/plain": [
       "                  email earliest_breachdate\n",
       "0           123@abc.com          2007-07-12\n",
       "1         123@gmail.com          2008-07-01\n",
       "2   2016kimss@gmail.com          2021-09-13\n",
       "3   2ashokrai@gmail.com          2016-10-08\n",
       "4  2yangs6288@naver.com          2024-05-28"
      ]
     },
     "execution_count": 7,
     "metadata": {},
     "output_type": "execute_result"
    }
   ],
   "source": [
    "# get earliest breach date per email\n",
    "df_earliest = (\n",
    "    df_hibp.groupby(\"email\", as_index=False)[\"breachdate\"]\n",
    "    .min()\n",
    "    .rename(columns={\"breachdate\": \"earliest_breachdate\"})\n",
    ")\n",
    "earliest_dict = dict(zip(df_earliest[\"email\"], df_earliest[\"earliest_breachdate\"]))\n",
    "df_earliest.head()"
   ]
  },
  {
   "cell_type": "code",
   "execution_count": 8,
   "id": "20606bd8",
   "metadata": {
    "ExecuteTime": {
     "end_time": "2025-02-12T14:14:20.042577Z",
     "start_time": "2025-02-12T14:14:20.039488Z"
    }
   },
   "outputs": [],
   "source": [
    "def breached_before(d: datetime, day_emails: Set[str]) -> List[str]:\n",
    "    \"\"\"\n",
    "    Identify emails from a given day's list that had a known breach before that day.\n",
    "\n",
    "    Args:\n",
    "        d (datetime): The reference date.\n",
    "        day_emails (Set[str]): A set of emails active on this date.\n",
    "\n",
    "    Returns:\n",
    "        List[str]: A list of emails that had a breach before this date.\n",
    "    \"\"\"\n",
    "    breached = []\n",
    "    for e in day_emails:\n",
    "        if e in earliest_dict and earliest_dict[e] < d:\n",
    "            breached.append(e)\n",
    "    return breached"
   ]
  },
  {
   "cell_type": "code",
   "execution_count": 9,
   "id": "acb48660",
   "metadata": {
    "ExecuteTime": {
     "end_time": "2025-02-12T14:14:23.231457Z",
     "start_time": "2025-02-12T14:14:20.044742Z"
    }
   },
   "outputs": [
    {
     "data": {
      "text/html": [
       "<div>\n",
       "<style scoped>\n",
       "    .dataframe tbody tr th:only-of-type {\n",
       "        vertical-align: middle;\n",
       "    }\n",
       "\n",
       "    .dataframe tbody tr th {\n",
       "        vertical-align: top;\n",
       "    }\n",
       "\n",
       "    .dataframe thead th {\n",
       "        text-align: right;\n",
       "    }\n",
       "</style>\n",
       "<table border=\"1\" class=\"dataframe\">\n",
       "  <thead>\n",
       "    <tr style=\"text-align: right;\">\n",
       "      <th></th>\n",
       "      <th>date</th>\n",
       "      <th>emails</th>\n",
       "      <th>n_emails</th>\n",
       "      <th>breached_emails</th>\n",
       "      <th>n_breached_emails</th>\n",
       "      <th>pr</th>\n",
       "      <th>pr_diff</th>\n",
       "    </tr>\n",
       "  </thead>\n",
       "  <tbody>\n",
       "    <tr>\n",
       "      <th>3898</th>\n",
       "      <td>2008-01-02</td>\n",
       "      <td>[a.albanese.mp@aph.gov.au, andrew.laming.mp@ap...</td>\n",
       "      <td>844</td>\n",
       "      <td>[]</td>\n",
       "      <td>0</td>\n",
       "      <td>0.000000</td>\n",
       "      <td>0.0</td>\n",
       "    </tr>\n",
       "    <tr>\n",
       "      <th>3899</th>\n",
       "      <td>2008-01-03</td>\n",
       "      <td>[a.albanese.mp@aph.gov.au, andrew.laming.mp@ap...</td>\n",
       "      <td>844</td>\n",
       "      <td>[]</td>\n",
       "      <td>0</td>\n",
       "      <td>0.000000</td>\n",
       "      <td>0.0</td>\n",
       "    </tr>\n",
       "    <tr>\n",
       "      <th>3900</th>\n",
       "      <td>2008-01-04</td>\n",
       "      <td>[a.albanese.mp@aph.gov.au, andrew.laming.mp@ap...</td>\n",
       "      <td>844</td>\n",
       "      <td>[]</td>\n",
       "      <td>0</td>\n",
       "      <td>0.000000</td>\n",
       "      <td>0.0</td>\n",
       "    </tr>\n",
       "    <tr>\n",
       "      <th>3901</th>\n",
       "      <td>2008-01-05</td>\n",
       "      <td>[a.albanese.mp@aph.gov.au, andrew.laming.mp@ap...</td>\n",
       "      <td>844</td>\n",
       "      <td>[]</td>\n",
       "      <td>0</td>\n",
       "      <td>0.000000</td>\n",
       "      <td>0.0</td>\n",
       "    </tr>\n",
       "    <tr>\n",
       "      <th>3902</th>\n",
       "      <td>2008-01-06</td>\n",
       "      <td>[a.albanese.mp@aph.gov.au, andrew.laming.mp@ap...</td>\n",
       "      <td>844</td>\n",
       "      <td>[]</td>\n",
       "      <td>0</td>\n",
       "      <td>0.000000</td>\n",
       "      <td>0.0</td>\n",
       "    </tr>\n",
       "    <tr>\n",
       "      <th>...</th>\n",
       "      <td>...</td>\n",
       "      <td>...</td>\n",
       "      <td>...</td>\n",
       "      <td>...</td>\n",
       "      <td>...</td>\n",
       "      <td>...</td>\n",
       "      <td>...</td>\n",
       "    </tr>\n",
       "    <tr>\n",
       "      <th>10134</th>\n",
       "      <td>2025-01-28</td>\n",
       "      <td>[albana.vokshi@parlament.al, aldo.bumci@parlam...</td>\n",
       "      <td>9200</td>\n",
       "      <td>[edmond.spaho@parlament.al, pepbardina@gmail.c...</td>\n",
       "      <td>3031</td>\n",
       "      <td>0.329457</td>\n",
       "      <td>0.0</td>\n",
       "    </tr>\n",
       "    <tr>\n",
       "      <th>10135</th>\n",
       "      <td>2025-01-29</td>\n",
       "      <td>[albana.vokshi@parlament.al, aldo.bumci@parlam...</td>\n",
       "      <td>9200</td>\n",
       "      <td>[edmond.spaho@parlament.al, pepbardina@gmail.c...</td>\n",
       "      <td>3031</td>\n",
       "      <td>0.329457</td>\n",
       "      <td>0.0</td>\n",
       "    </tr>\n",
       "    <tr>\n",
       "      <th>10136</th>\n",
       "      <td>2025-01-30</td>\n",
       "      <td>[albana.vokshi@parlament.al, aldo.bumci@parlam...</td>\n",
       "      <td>9200</td>\n",
       "      <td>[edmond.spaho@parlament.al, pepbardina@gmail.c...</td>\n",
       "      <td>3031</td>\n",
       "      <td>0.329457</td>\n",
       "      <td>0.0</td>\n",
       "    </tr>\n",
       "    <tr>\n",
       "      <th>10137</th>\n",
       "      <td>2025-01-31</td>\n",
       "      <td>[albana.vokshi@parlament.al, aldo.bumci@parlam...</td>\n",
       "      <td>9200</td>\n",
       "      <td>[edmond.spaho@parlament.al, pepbardina@gmail.c...</td>\n",
       "      <td>3031</td>\n",
       "      <td>0.329457</td>\n",
       "      <td>0.0</td>\n",
       "    </tr>\n",
       "    <tr>\n",
       "      <th>10138</th>\n",
       "      <td>2025-02-01</td>\n",
       "      <td>[albana.vokshi@parlament.al, aldo.bumci@parlam...</td>\n",
       "      <td>9200</td>\n",
       "      <td>[edmond.spaho@parlament.al, pepbardina@gmail.c...</td>\n",
       "      <td>3031</td>\n",
       "      <td>0.329457</td>\n",
       "      <td>0.0</td>\n",
       "    </tr>\n",
       "  </tbody>\n",
       "</table>\n",
       "<p>6241 rows × 7 columns</p>\n",
       "</div>"
      ],
      "text/plain": [
       "            date                                             emails  n_emails  \\\n",
       "3898  2008-01-02  [a.albanese.mp@aph.gov.au, andrew.laming.mp@ap...       844   \n",
       "3899  2008-01-03  [a.albanese.mp@aph.gov.au, andrew.laming.mp@ap...       844   \n",
       "3900  2008-01-04  [a.albanese.mp@aph.gov.au, andrew.laming.mp@ap...       844   \n",
       "3901  2008-01-05  [a.albanese.mp@aph.gov.au, andrew.laming.mp@ap...       844   \n",
       "3902  2008-01-06  [a.albanese.mp@aph.gov.au, andrew.laming.mp@ap...       844   \n",
       "...          ...                                                ...       ...   \n",
       "10134 2025-01-28  [albana.vokshi@parlament.al, aldo.bumci@parlam...      9200   \n",
       "10135 2025-01-29  [albana.vokshi@parlament.al, aldo.bumci@parlam...      9200   \n",
       "10136 2025-01-30  [albana.vokshi@parlament.al, aldo.bumci@parlam...      9200   \n",
       "10137 2025-01-31  [albana.vokshi@parlament.al, aldo.bumci@parlam...      9200   \n",
       "10138 2025-02-01  [albana.vokshi@parlament.al, aldo.bumci@parlam...      9200   \n",
       "\n",
       "                                         breached_emails  n_breached_emails  \\\n",
       "3898                                                  []                  0   \n",
       "3899                                                  []                  0   \n",
       "3900                                                  []                  0   \n",
       "3901                                                  []                  0   \n",
       "3902                                                  []                  0   \n",
       "...                                                  ...                ...   \n",
       "10134  [edmond.spaho@parlament.al, pepbardina@gmail.c...               3031   \n",
       "10135  [edmond.spaho@parlament.al, pepbardina@gmail.c...               3031   \n",
       "10136  [edmond.spaho@parlament.al, pepbardina@gmail.c...               3031   \n",
       "10137  [edmond.spaho@parlament.al, pepbardina@gmail.c...               3031   \n",
       "10138  [edmond.spaho@parlament.al, pepbardina@gmail.c...               3031   \n",
       "\n",
       "             pr  pr_diff  \n",
       "3898   0.000000      0.0  \n",
       "3899   0.000000      0.0  \n",
       "3900   0.000000      0.0  \n",
       "3901   0.000000      0.0  \n",
       "3902   0.000000      0.0  \n",
       "...         ...      ...  \n",
       "10134  0.329457      0.0  \n",
       "10135  0.329457      0.0  \n",
       "10136  0.329457      0.0  \n",
       "10137  0.329457      0.0  \n",
       "10138  0.329457      0.0  \n",
       "\n",
       "[6241 rows x 7 columns]"
      ]
     },
     "execution_count": 9,
     "metadata": {},
     "output_type": "execute_result"
    }
   ],
   "source": [
    "df_dates[\"breached_emails\"] = df_dates.apply(\n",
    "    lambda row: breached_before(row[\"date\"], row[\"emails\"]), axis=1\n",
    ")\n",
    "df_dates[\"n_breached_emails\"] = df_dates[\"breached_emails\"].apply(len)\n",
    "df_dates[\"pr\"] = df_dates[\"n_breached_emails\"] / df_dates[\"n_emails\"]\n",
    "df_dates[\"pr_diff\"] = df_dates[\"pr\"].diff()\n",
    "df_dates = df_dates.query(\"date>'2008-01-01'\")\n",
    "\n",
    "df_dates"
   ]
  },
  {
   "cell_type": "code",
   "execution_count": 10,
   "id": "b580eeb6",
   "metadata": {
    "ExecuteTime": {
     "end_time": "2025-02-12T14:14:23.262695Z",
     "start_time": "2025-02-12T14:14:23.234611Z"
    }
   },
   "outputs": [
    {
     "data": {
      "text/html": [
       "<div>\n",
       "<style scoped>\n",
       "    .dataframe tbody tr th:only-of-type {\n",
       "        vertical-align: middle;\n",
       "    }\n",
       "\n",
       "    .dataframe tbody tr th {\n",
       "        vertical-align: top;\n",
       "    }\n",
       "\n",
       "    .dataframe thead th {\n",
       "        text-align: right;\n",
       "    }\n",
       "</style>\n",
       "<table border=\"1\" class=\"dataframe\">\n",
       "  <thead>\n",
       "    <tr style=\"text-align: right;\">\n",
       "      <th></th>\n",
       "      <th>name</th>\n",
       "      <th>description</th>\n",
       "      <th>breachdate</th>\n",
       "      <th>addeddate</th>\n",
       "      <th>dataclasses</th>\n",
       "    </tr>\n",
       "  </thead>\n",
       "  <tbody>\n",
       "    <tr>\n",
       "      <th>0</th>\n",
       "      <td>000webhost</td>\n",
       "      <td>In approximately March 2015, the free web host...</td>\n",
       "      <td>2015-03-01</td>\n",
       "      <td>2015-10-26T23:35:45Z</td>\n",
       "      <td>['Email addresses', 'IP addresses', 'Names', '...</td>\n",
       "    </tr>\n",
       "    <tr>\n",
       "      <th>1</th>\n",
       "      <td>123RF</td>\n",
       "      <td>In March 2020, the stock photo site &lt;a href=\"h...</td>\n",
       "      <td>2020-03-22</td>\n",
       "      <td>2020-11-15T00:59:50Z</td>\n",
       "      <td>['Email addresses', 'IP addresses', 'Names', '...</td>\n",
       "    </tr>\n",
       "    <tr>\n",
       "      <th>2</th>\n",
       "      <td>126</td>\n",
       "      <td>In approximately 2012, it's alleged that the C...</td>\n",
       "      <td>2012-01-01</td>\n",
       "      <td>2016-10-08T07:46:05Z</td>\n",
       "      <td>['Email addresses', 'Passwords']</td>\n",
       "    </tr>\n",
       "    <tr>\n",
       "      <th>3</th>\n",
       "      <td>17Media</td>\n",
       "      <td>In April 2016, customer data obtained from the...</td>\n",
       "      <td>2016-04-19</td>\n",
       "      <td>2016-07-08T01:55:03Z</td>\n",
       "      <td>['Device information', 'Email addresses', 'IP ...</td>\n",
       "    </tr>\n",
       "    <tr>\n",
       "      <th>4</th>\n",
       "      <td>17173</td>\n",
       "      <td>In late 2011, &lt;a href=\"https://news.softpedia....</td>\n",
       "      <td>2011-12-28</td>\n",
       "      <td>2018-04-28T04:53:15Z</td>\n",
       "      <td>['Email addresses', 'Passwords', 'Usernames']</td>\n",
       "    </tr>\n",
       "    <tr>\n",
       "      <th>...</th>\n",
       "      <td>...</td>\n",
       "      <td>...</td>\n",
       "      <td>...</td>\n",
       "      <td>...</td>\n",
       "      <td>...</td>\n",
       "    </tr>\n",
       "    <tr>\n",
       "      <th>852</th>\n",
       "      <td>Zurich</td>\n",
       "      <td>In January 2023, &lt;a href=\"https://therecord.me...</td>\n",
       "      <td>2023-01-08</td>\n",
       "      <td>2023-01-22T22:30:56Z</td>\n",
       "      <td>['Dates of birth', 'Email addresses', 'Genders...</td>\n",
       "    </tr>\n",
       "    <tr>\n",
       "      <th>853</th>\n",
       "      <td>Zynga</td>\n",
       "      <td>In September 2019, game developer &lt;a href=\"htt...</td>\n",
       "      <td>2019-09-01</td>\n",
       "      <td>2019-12-19T04:54:45Z</td>\n",
       "      <td>['Email addresses', 'Passwords', 'Phone number...</td>\n",
       "    </tr>\n",
       "    <tr>\n",
       "      <th>854</th>\n",
       "      <td>Parapa</td>\n",
       "      <td>In August 2016, &lt;a href=\"http://www.zdnet.com/...</td>\n",
       "      <td>2016-08-08</td>\n",
       "      <td>2016-12-28T07:03:17Z</td>\n",
       "      <td>['Email addresses', 'Passwords', 'Usernames']</td>\n",
       "    </tr>\n",
       "    <tr>\n",
       "      <th>855</th>\n",
       "      <td>SprashivaiRu</td>\n",
       "      <td>In May 2015, &lt;a href=\"http://sprashivai.ru/\" t...</td>\n",
       "      <td>2015-05-11</td>\n",
       "      <td>2015-05-12T23:50:08Z</td>\n",
       "      <td>['Dates of birth', 'Email addresses', 'Genders...</td>\n",
       "    </tr>\n",
       "    <tr>\n",
       "      <th>856</th>\n",
       "      <td>DecoratingTheHouse</td>\n",
       "      <td>In March 2020, the Korean interior decoration ...</td>\n",
       "      <td>2020-03-27</td>\n",
       "      <td>2020-08-02T05:34:42Z</td>\n",
       "      <td>['Email addresses', 'Names', 'Phone numbers', ...</td>\n",
       "    </tr>\n",
       "  </tbody>\n",
       "</table>\n",
       "<p>857 rows × 5 columns</p>\n",
       "</div>"
      ],
      "text/plain": [
       "                   name                                        description  \\\n",
       "0            000webhost  In approximately March 2015, the free web host...   \n",
       "1                 123RF  In March 2020, the stock photo site <a href=\"h...   \n",
       "2                   126  In approximately 2012, it's alleged that the C...   \n",
       "3               17Media  In April 2016, customer data obtained from the...   \n",
       "4                 17173  In late 2011, <a href=\"https://news.softpedia....   \n",
       "..                  ...                                                ...   \n",
       "852              Zurich  In January 2023, <a href=\"https://therecord.me...   \n",
       "853               Zynga  In September 2019, game developer <a href=\"htt...   \n",
       "854              Parapa  In August 2016, <a href=\"http://www.zdnet.com/...   \n",
       "855        SprashivaiRu  In May 2015, <a href=\"http://sprashivai.ru/\" t...   \n",
       "856  DecoratingTheHouse  In March 2020, the Korean interior decoration ...   \n",
       "\n",
       "    breachdate             addeddate  \\\n",
       "0   2015-03-01  2015-10-26T23:35:45Z   \n",
       "1   2020-03-22  2020-11-15T00:59:50Z   \n",
       "2   2012-01-01  2016-10-08T07:46:05Z   \n",
       "3   2016-04-19  2016-07-08T01:55:03Z   \n",
       "4   2011-12-28  2018-04-28T04:53:15Z   \n",
       "..         ...                   ...   \n",
       "852 2023-01-08  2023-01-22T22:30:56Z   \n",
       "853 2019-09-01  2019-12-19T04:54:45Z   \n",
       "854 2016-08-08  2016-12-28T07:03:17Z   \n",
       "855 2015-05-11  2015-05-12T23:50:08Z   \n",
       "856 2020-03-27  2020-08-02T05:34:42Z   \n",
       "\n",
       "                                           dataclasses  \n",
       "0    ['Email addresses', 'IP addresses', 'Names', '...  \n",
       "1    ['Email addresses', 'IP addresses', 'Names', '...  \n",
       "2                     ['Email addresses', 'Passwords']  \n",
       "3    ['Device information', 'Email addresses', 'IP ...  \n",
       "4        ['Email addresses', 'Passwords', 'Usernames']  \n",
       "..                                                 ...  \n",
       "852  ['Dates of birth', 'Email addresses', 'Genders...  \n",
       "853  ['Email addresses', 'Passwords', 'Phone number...  \n",
       "854      ['Email addresses', 'Passwords', 'Usernames']  \n",
       "855  ['Dates of birth', 'Email addresses', 'Genders...  \n",
       "856  ['Email addresses', 'Names', 'Phone numbers', ...  \n",
       "\n",
       "[857 rows x 5 columns]"
      ]
     },
     "execution_count": 10,
     "metadata": {},
     "output_type": "execute_result"
    }
   ],
   "source": [
    "# Prep hibp datat to get cumulative n_breachs\n",
    "df_hibp = (\n",
    "    pd.read_csv(\"../data/breaches_01_2025.csv\")\n",
    "    .clean_names()\n",
    "    .filter([\"name\", \"description\", \"breachdate\", \"addeddate\", \"dataclasses\"])\n",
    "    .assign(breachdate=lambda df_: pd.to_datetime(df_[\"breachdate\"]))\n",
    ")\n",
    "df_hibp"
   ]
  },
  {
   "cell_type": "code",
   "execution_count": 11,
   "id": "0dc04e0b",
   "metadata": {
    "ExecuteTime": {
     "end_time": "2025-02-12T14:14:24.122351Z",
     "start_time": "2025-02-12T14:14:23.265027Z"
    }
   },
   "outputs": [
    {
     "data": {
      "text/html": [
       "<div>\n",
       "<style scoped>\n",
       "    .dataframe tbody tr th:only-of-type {\n",
       "        vertical-align: middle;\n",
       "    }\n",
       "\n",
       "    .dataframe tbody tr th {\n",
       "        vertical-align: top;\n",
       "    }\n",
       "\n",
       "    .dataframe thead th {\n",
       "        text-align: right;\n",
       "    }\n",
       "</style>\n",
       "<table border=\"1\" class=\"dataframe\">\n",
       "  <thead>\n",
       "    <tr style=\"text-align: right;\">\n",
       "      <th></th>\n",
       "      <th>date</th>\n",
       "      <th>n_breaches</th>\n",
       "    </tr>\n",
       "  </thead>\n",
       "  <tbody>\n",
       "    <tr>\n",
       "      <th>3898</th>\n",
       "      <td>2008-01-02</td>\n",
       "      <td>1</td>\n",
       "    </tr>\n",
       "    <tr>\n",
       "      <th>3899</th>\n",
       "      <td>2008-01-03</td>\n",
       "      <td>1</td>\n",
       "    </tr>\n",
       "    <tr>\n",
       "      <th>3900</th>\n",
       "      <td>2008-01-04</td>\n",
       "      <td>1</td>\n",
       "    </tr>\n",
       "    <tr>\n",
       "      <th>3901</th>\n",
       "      <td>2008-01-05</td>\n",
       "      <td>1</td>\n",
       "    </tr>\n",
       "    <tr>\n",
       "      <th>3902</th>\n",
       "      <td>2008-01-06</td>\n",
       "      <td>1</td>\n",
       "    </tr>\n",
       "    <tr>\n",
       "      <th>...</th>\n",
       "      <td>...</td>\n",
       "      <td>...</td>\n",
       "    </tr>\n",
       "    <tr>\n",
       "      <th>10134</th>\n",
       "      <td>2025-01-28</td>\n",
       "      <td>857</td>\n",
       "    </tr>\n",
       "    <tr>\n",
       "      <th>10135</th>\n",
       "      <td>2025-01-29</td>\n",
       "      <td>857</td>\n",
       "    </tr>\n",
       "    <tr>\n",
       "      <th>10136</th>\n",
       "      <td>2025-01-30</td>\n",
       "      <td>857</td>\n",
       "    </tr>\n",
       "    <tr>\n",
       "      <th>10137</th>\n",
       "      <td>2025-01-31</td>\n",
       "      <td>857</td>\n",
       "    </tr>\n",
       "    <tr>\n",
       "      <th>10138</th>\n",
       "      <td>2025-02-01</td>\n",
       "      <td>857</td>\n",
       "    </tr>\n",
       "  </tbody>\n",
       "</table>\n",
       "<p>6241 rows × 2 columns</p>\n",
       "</div>"
      ],
      "text/plain": [
       "            date  n_breaches\n",
       "3898  2008-01-02           1\n",
       "3899  2008-01-03           1\n",
       "3900  2008-01-04           1\n",
       "3901  2008-01-05           1\n",
       "3902  2008-01-06           1\n",
       "...          ...         ...\n",
       "10134 2025-01-28         857\n",
       "10135 2025-01-29         857\n",
       "10136 2025-01-30         857\n",
       "10137 2025-01-31         857\n",
       "10138 2025-02-01         857\n",
       "\n",
       "[6241 rows x 2 columns]"
      ]
     },
     "execution_count": 11,
     "metadata": {},
     "output_type": "execute_result"
    }
   ],
   "source": [
    "# get cumulative n_breachs\n",
    "df_hibp_dates = (\n",
    "    pd.DataFrame({\"date\": dates_ts})\n",
    "    .assign(\n",
    "        n_breaches=lambda df: df[\"date\"].apply(\n",
    "            lambda d: (df_hibp[\"breachdate\"] <= d).sum()\n",
    "        )\n",
    "    )\n",
    "    .query(\"date>'2008-01-01'\")\n",
    ")\n",
    "df_hibp_dates"
   ]
  },
  {
   "cell_type": "markdown",
   "id": "bc50a720",
   "metadata": {},
   "source": [
    "## Plot"
   ]
  },
  {
   "cell_type": "code",
   "execution_count": 12,
   "id": "9a6568cb",
   "metadata": {
    "ExecuteTime": {
     "end_time": "2025-02-12T14:14:24.295956Z",
     "start_time": "2025-02-12T14:14:24.124699Z"
    }
   },
   "outputs": [
    {
     "data": {
      "text/plain": [
       "<matplotlib.collections.PathCollection at 0x7f9d741860e0>"
      ]
     },
     "execution_count": 12,
     "metadata": {},
     "output_type": "execute_result"
    },
    {
     "data": {
      "image/png": "[encoded data removed]",
      "text/plain": [
       "<Figure size 432x288 with 1 Axes>"
      ]
     },
     "metadata": {
      "needs_background": "light"
     },
     "output_type": "display_data"
    }
   ],
   "source": [
    "plt.plot(df_dates[\"date\"], df_dates[\"pr\"], color=\"0\", linestyle=\"-\", lw=0.5, alpha=0.9)\n",
    "plt.scatter(df_dates[\"date\"], df_dates[\"pr\"], color=\"navy\", s=5, marker=\"o\", alpha=0.3)"
   ]
  },
  {
   "cell_type": "code",
   "execution_count": 13,
   "id": "b389c173",
   "metadata": {
    "ExecuteTime": {
     "end_time": "2025-02-12T14:14:24.509688Z",
     "start_time": "2025-02-12T14:14:24.298300Z"
    }
   },
   "outputs": [
    {
     "data": {
      "image/png": "[encoded data removed]",
      "text/plain": [
       "<Figure size 1152x504 with 1 Axes>"
      ]
     },
     "metadata": {
      "needs_background": "light"
     },
     "output_type": "display_data"
    }
   ],
   "source": [
    "_scale = 1\n",
    "_aspect_ratio = (16, 7)\n",
    "figsize = tuple(k * _scale for k in _aspect_ratio)\n",
    "_, ax = plt.subplots(figsize=figsize)\n",
    "\n",
    "plt.plot(df_dates[\"date\"], df_dates[\"pr\"], color=\"0\", linestyle=\"-\", lw=0.5, alpha=0.9)\n",
    "plt.scatter(df_dates[\"date\"], df_dates[\"pr\"], color=\"navy\", s=5, marker=\"o\", alpha=0.3)\n",
    "\n",
    "# ============================================================================\n",
    "formatted_leg_start_date = latest_leg_start_date.strftime(\"%d %b %Y\")\n",
    "\n",
    "ax.axvline(\n",
    "    x=latest_leg_start_date, color=\"maroon\", linestyle=(0, (10, 5)), linewidth=1.5\n",
    ")\n",
    "ax.text(\n",
    "    latest_leg_start_date,\n",
    "    ax.get_ylim()[1] * 0.8,\n",
    "    f\"Latest email date: {formatted_leg_start_date}\",\n",
    "    color=\".2\",\n",
    "    fontsize=14,\n",
    "    rotation=90,\n",
    "    ha=\"right\",\n",
    "    va=\"top\",\n",
    ")\n",
    "\n",
    "# ============================================================================\n",
    "\n",
    "\n",
    "def percentage_formatter(x, pos):\n",
    "    # Convert proportion to percentage format\n",
    "    return f\"{x:.0%}\"\n",
    "\n",
    "\n",
    "ax.yaxis.set_major_formatter(ticker.FuncFormatter(percentage_formatter))\n",
    "\n",
    "# ============================================================================\n",
    "# Labels and grid styling\n",
    "plt.xlabel(\"Date\", fontsize=18)\n",
    "plt.ylabel(\"Percentage of breached email accounts\", fontsize=18)\n",
    "ax.tick_params(axis=\"both\", labelsize=15)\n",
    "ax.grid(axis=\"y\", linestyle=\"--\", alpha=0.5)\n",
    "plt.tight_layout()"
   ]
  },
  {
   "cell_type": "code",
   "execution_count": 14,
   "id": "da33dff6",
   "metadata": {
    "ExecuteTime": {
     "end_time": "2025-02-12T14:14:24.527705Z",
     "start_time": "2025-02-12T14:14:24.511991Z"
    }
   },
   "outputs": [
    {
     "data": {
      "text/html": [
       "<div>\n",
       "<style scoped>\n",
       "    .dataframe tbody tr th:only-of-type {\n",
       "        vertical-align: middle;\n",
       "    }\n",
       "\n",
       "    .dataframe tbody tr th {\n",
       "        vertical-align: top;\n",
       "    }\n",
       "\n",
       "    .dataframe thead th {\n",
       "        text-align: right;\n",
       "    }\n",
       "</style>\n",
       "<table border=\"1\" class=\"dataframe\">\n",
       "  <thead>\n",
       "    <tr style=\"text-align: right;\">\n",
       "      <th></th>\n",
       "      <th>date</th>\n",
       "      <th>emails</th>\n",
       "      <th>n_emails</th>\n",
       "      <th>breached_emails</th>\n",
       "      <th>n_breached_emails</th>\n",
       "      <th>pr</th>\n",
       "      <th>pr_diff</th>\n",
       "    </tr>\n",
       "  </thead>\n",
       "  <tbody>\n",
       "    <tr>\n",
       "      <th>5484</th>\n",
       "      <td>2012-05-06</td>\n",
       "      <td>[albana.vokshi@parlament.al, aldo.bumci@parlam...</td>\n",
       "      <td>2112</td>\n",
       "      <td>[andrew.laming.mp@aph.gov.au, steven.ciobo.mp@...</td>\n",
       "      <td>187</td>\n",
       "      <td>0.088542</td>\n",
       "      <td>0.077872</td>\n",
       "    </tr>\n",
       "    <tr>\n",
       "      <th>7425</th>\n",
       "      <td>2017-08-29</td>\n",
       "      <td>[albana.vokshi@parlament.al, aldo.bumci@parlam...</td>\n",
       "      <td>8430</td>\n",
       "      <td>[rgilicasals@gmail.com, andrew.laming.mp@aph.g...</td>\n",
       "      <td>1512</td>\n",
       "      <td>0.179359</td>\n",
       "      <td>0.077343</td>\n",
       "    </tr>\n",
       "    <tr>\n",
       "      <th>8331</th>\n",
       "      <td>2020-02-21</td>\n",
       "      <td>[albana.vokshi@parlament.al, aldo.bumci@parlam...</td>\n",
       "      <td>9102</td>\n",
       "      <td>[pepbardina@gmail.com, rgilicasals@gmail.com, ...</td>\n",
       "      <td>2787</td>\n",
       "      <td>0.306196</td>\n",
       "      <td>0.058668</td>\n",
       "    </tr>\n",
       "    <tr>\n",
       "      <th>5541</th>\n",
       "      <td>2012-07-02</td>\n",
       "      <td>[albana.vokshi@parlament.al, aldo.bumci@parlam...</td>\n",
       "      <td>2301</td>\n",
       "      <td>[andrew.laming.mp@aph.gov.au, steven.ciobo.mp@...</td>\n",
       "      <td>256</td>\n",
       "      <td>0.111256</td>\n",
       "      <td>0.029552</td>\n",
       "    </tr>\n",
       "    <tr>\n",
       "      <th>7971</th>\n",
       "      <td>2019-02-26</td>\n",
       "      <td>[albana.vokshi@parlament.al, aldo.bumci@parlam...</td>\n",
       "      <td>9067</td>\n",
       "      <td>[pepbardina@gmail.com, rgilicasals@gmail.com, ...</td>\n",
       "      <td>2062</td>\n",
       "      <td>0.227418</td>\n",
       "      <td>0.022499</td>\n",
       "    </tr>\n",
       "  </tbody>\n",
       "</table>\n",
       "</div>"
      ],
      "text/plain": [
       "           date                                             emails  n_emails  \\\n",
       "5484 2012-05-06  [albana.vokshi@parlament.al, aldo.bumci@parlam...      2112   \n",
       "7425 2017-08-29  [albana.vokshi@parlament.al, aldo.bumci@parlam...      8430   \n",
       "8331 2020-02-21  [albana.vokshi@parlament.al, aldo.bumci@parlam...      9102   \n",
       "5541 2012-07-02  [albana.vokshi@parlament.al, aldo.bumci@parlam...      2301   \n",
       "7971 2019-02-26  [albana.vokshi@parlament.al, aldo.bumci@parlam...      9067   \n",
       "\n",
       "                                        breached_emails  n_breached_emails  \\\n",
       "5484  [andrew.laming.mp@aph.gov.au, steven.ciobo.mp@...                187   \n",
       "7425  [rgilicasals@gmail.com, andrew.laming.mp@aph.g...               1512   \n",
       "8331  [pepbardina@gmail.com, rgilicasals@gmail.com, ...               2787   \n",
       "5541  [andrew.laming.mp@aph.gov.au, steven.ciobo.mp@...                256   \n",
       "7971  [pepbardina@gmail.com, rgilicasals@gmail.com, ...               2062   \n",
       "\n",
       "            pr   pr_diff  \n",
       "5484  0.088542  0.077872  \n",
       "7425  0.179359  0.077343  \n",
       "8331  0.306196  0.058668  \n",
       "5541  0.111256  0.029552  \n",
       "7971  0.227418  0.022499  "
      ]
     },
     "execution_count": 14,
     "metadata": {},
     "output_type": "execute_result"
    }
   ],
   "source": [
    "top_jumps = df_dates.nlargest(5, \"pr_diff\")\n",
    "top_jumps"
   ]
  },
  {
   "cell_type": "code",
   "execution_count": 15,
   "id": "7742a594",
   "metadata": {
    "ExecuteTime": {
     "end_time": "2025-02-12T14:14:24.539040Z",
     "start_time": "2025-02-12T14:14:24.529283Z"
    }
   },
   "outputs": [
    {
     "data": {
      "text/html": [
       "<div>\n",
       "<style scoped>\n",
       "    .dataframe tbody tr th:only-of-type {\n",
       "        vertical-align: middle;\n",
       "    }\n",
       "\n",
       "    .dataframe tbody tr th {\n",
       "        vertical-align: top;\n",
       "    }\n",
       "\n",
       "    .dataframe thead th {\n",
       "        text-align: right;\n",
       "    }\n",
       "</style>\n",
       "<table border=\"1\" class=\"dataframe\">\n",
       "  <thead>\n",
       "    <tr style=\"text-align: right;\">\n",
       "      <th></th>\n",
       "      <th>name</th>\n",
       "      <th>description</th>\n",
       "      <th>breachdate</th>\n",
       "      <th>addeddate</th>\n",
       "      <th>dataclasses</th>\n",
       "    </tr>\n",
       "  </thead>\n",
       "  <tbody>\n",
       "    <tr>\n",
       "      <th>423</th>\n",
       "      <td>LinkedIn</td>\n",
       "      <td>In May 2016, &lt;a href=\"https://www.troyhunt.com...</td>\n",
       "      <td>2012-05-05</td>\n",
       "      <td>2016-05-21T21:35:40Z</td>\n",
       "      <td>['Email addresses', 'Passwords']</td>\n",
       "    </tr>\n",
       "  </tbody>\n",
       "</table>\n",
       "</div>"
      ],
      "text/plain": [
       "         name                                        description breachdate  \\\n",
       "423  LinkedIn  In May 2016, <a href=\"https://www.troyhunt.com... 2012-05-05   \n",
       "\n",
       "                addeddate                       dataclasses  \n",
       "423  2016-05-21T21:35:40Z  ['Email addresses', 'Passwords']  "
      ]
     },
     "execution_count": 15,
     "metadata": {},
     "output_type": "execute_result"
    }
   ],
   "source": [
    "df_hibp.query(\"breachdate=='2012-05-05'\")"
   ]
  },
  {
   "cell_type": "code",
   "execution_count": 16,
   "id": "aa66f2fe",
   "metadata": {
    "ExecuteTime": {
     "end_time": "2025-02-12T14:14:24.553822Z",
     "start_time": "2025-02-12T14:14:24.540868Z"
    }
   },
   "outputs": [
    {
     "data": {
      "text/html": [
       "<div>\n",
       "<style scoped>\n",
       "    .dataframe tbody tr th:only-of-type {\n",
       "        vertical-align: middle;\n",
       "    }\n",
       "\n",
       "    .dataframe tbody tr th {\n",
       "        vertical-align: top;\n",
       "    }\n",
       "\n",
       "    .dataframe thead th {\n",
       "        text-align: right;\n",
       "    }\n",
       "</style>\n",
       "<table border=\"1\" class=\"dataframe\">\n",
       "  <thead>\n",
       "    <tr style=\"text-align: right;\">\n",
       "      <th></th>\n",
       "      <th>name</th>\n",
       "      <th>description</th>\n",
       "      <th>breachdate</th>\n",
       "      <th>addeddate</th>\n",
       "      <th>dataclasses</th>\n",
       "    </tr>\n",
       "  </thead>\n",
       "  <tbody>\n",
       "    <tr>\n",
       "      <th>541</th>\n",
       "      <td>OnlinerSpambot</td>\n",
       "      <td>In August 2017, a spambot by the name of &lt;a hr...</td>\n",
       "      <td>2017-08-28</td>\n",
       "      <td>2017-08-29T19:25:56Z</td>\n",
       "      <td>['Email addresses', 'Passwords']</td>\n",
       "    </tr>\n",
       "  </tbody>\n",
       "</table>\n",
       "</div>"
      ],
      "text/plain": [
       "               name                                        description  \\\n",
       "541  OnlinerSpambot  In August 2017, a spambot by the name of <a hr...   \n",
       "\n",
       "    breachdate             addeddate                       dataclasses  \n",
       "541 2017-08-28  2017-08-29T19:25:56Z  ['Email addresses', 'Passwords']  "
      ]
     },
     "execution_count": 16,
     "metadata": {},
     "output_type": "execute_result"
    }
   ],
   "source": [
    "df_hibp.query(\"breachdate=='2017-08-28'\")"
   ]
  },
  {
   "cell_type": "code",
   "execution_count": 17,
   "id": "499263c0",
   "metadata": {
    "ExecuteTime": {
     "end_time": "2025-02-12T14:14:24.570040Z",
     "start_time": "2025-02-12T14:14:24.555427Z"
    }
   },
   "outputs": [
    {
     "data": {
      "text/html": [
       "<div>\n",
       "<style scoped>\n",
       "    .dataframe tbody tr th:only-of-type {\n",
       "        vertical-align: middle;\n",
       "    }\n",
       "\n",
       "    .dataframe tbody tr th {\n",
       "        vertical-align: top;\n",
       "    }\n",
       "\n",
       "    .dataframe thead th {\n",
       "        text-align: right;\n",
       "    }\n",
       "</style>\n",
       "<table border=\"1\" class=\"dataframe\">\n",
       "  <thead>\n",
       "    <tr style=\"text-align: right;\">\n",
       "      <th></th>\n",
       "      <th>name</th>\n",
       "      <th>description</th>\n",
       "      <th>breachdate</th>\n",
       "      <th>addeddate</th>\n",
       "      <th>dataclasses</th>\n",
       "    </tr>\n",
       "  </thead>\n",
       "  <tbody>\n",
       "    <tr>\n",
       "      <th>158</th>\n",
       "      <td>db8151dd</td>\n",
       "      <td>In February 2020, &lt;a href=\"https://www.troyhun...</td>\n",
       "      <td>2020-02-20</td>\n",
       "      <td>2020-05-15T08:06:11Z</td>\n",
       "      <td>['Email addresses', 'Job titles', 'Names', 'Ph...</td>\n",
       "    </tr>\n",
       "  </tbody>\n",
       "</table>\n",
       "</div>"
      ],
      "text/plain": [
       "         name                                        description breachdate  \\\n",
       "158  db8151dd  In February 2020, <a href=\"https://www.troyhun... 2020-02-20   \n",
       "\n",
       "                addeddate                                        dataclasses  \n",
       "158  2020-05-15T08:06:11Z  ['Email addresses', 'Job titles', 'Names', 'Ph...  "
      ]
     },
     "execution_count": 17,
     "metadata": {},
     "output_type": "execute_result"
    }
   ],
   "source": [
    "df_hibp.query(\"breachdate=='2020-02-20'\")"
   ]
  },
  {
   "cell_type": "code",
   "execution_count": 18,
   "id": "7e878fd0",
   "metadata": {
    "ExecuteTime": {
     "end_time": "2025-02-12T14:14:24.584165Z",
     "start_time": "2025-02-12T14:14:24.572201Z"
    }
   },
   "outputs": [
    {
     "data": {
      "text/html": [
       "<div>\n",
       "<style scoped>\n",
       "    .dataframe tbody tr th:only-of-type {\n",
       "        vertical-align: middle;\n",
       "    }\n",
       "\n",
       "    .dataframe tbody tr th {\n",
       "        vertical-align: top;\n",
       "    }\n",
       "\n",
       "    .dataframe thead th {\n",
       "        text-align: right;\n",
       "    }\n",
       "</style>\n",
       "<table border=\"1\" class=\"dataframe\">\n",
       "  <thead>\n",
       "    <tr style=\"text-align: right;\">\n",
       "      <th></th>\n",
       "      <th>name</th>\n",
       "      <th>description</th>\n",
       "      <th>breachdate</th>\n",
       "      <th>addeddate</th>\n",
       "      <th>dataclasses</th>\n",
       "    </tr>\n",
       "  </thead>\n",
       "  <tbody>\n",
       "    <tr>\n",
       "      <th>195</th>\n",
       "      <td>Disqus</td>\n",
       "      <td>In October 2017, the blog commenting service &lt;...</td>\n",
       "      <td>2012-07-01</td>\n",
       "      <td>2017-10-06T23:03:51Z</td>\n",
       "      <td>['Email addresses', 'Passwords', 'Usernames']</td>\n",
       "    </tr>\n",
       "    <tr>\n",
       "      <th>208</th>\n",
       "      <td>Dropbox</td>\n",
       "      <td>In mid-2012, Dropbox suffered a data breach wh...</td>\n",
       "      <td>2012-07-01</td>\n",
       "      <td>2016-08-31T00:19:19Z</td>\n",
       "      <td>['Email addresses', 'Passwords']</td>\n",
       "    </tr>\n",
       "  </tbody>\n",
       "</table>\n",
       "</div>"
      ],
      "text/plain": [
       "        name                                        description breachdate  \\\n",
       "195   Disqus  In October 2017, the blog commenting service <... 2012-07-01   \n",
       "208  Dropbox  In mid-2012, Dropbox suffered a data breach wh... 2012-07-01   \n",
       "\n",
       "                addeddate                                    dataclasses  \n",
       "195  2017-10-06T23:03:51Z  ['Email addresses', 'Passwords', 'Usernames']  \n",
       "208  2016-08-31T00:19:19Z               ['Email addresses', 'Passwords']  "
      ]
     },
     "execution_count": 18,
     "metadata": {},
     "output_type": "execute_result"
    }
   ],
   "source": [
    "df_hibp.query(\"breachdate=='2012-07-01'\")"
   ]
  },
  {
   "cell_type": "code",
   "execution_count": 19,
   "id": "370bccdb",
   "metadata": {
    "ExecuteTime": {
     "end_time": "2025-02-12T14:14:24.597858Z",
     "start_time": "2025-02-12T14:14:24.585973Z"
    }
   },
   "outputs": [
    {
     "data": {
      "text/html": [
       "<div>\n",
       "<style scoped>\n",
       "    .dataframe tbody tr th:only-of-type {\n",
       "        vertical-align: middle;\n",
       "    }\n",
       "\n",
       "    .dataframe tbody tr th {\n",
       "        vertical-align: top;\n",
       "    }\n",
       "\n",
       "    .dataframe thead th {\n",
       "        text-align: right;\n",
       "    }\n",
       "</style>\n",
       "<table border=\"1\" class=\"dataframe\">\n",
       "  <thead>\n",
       "    <tr style=\"text-align: right;\">\n",
       "      <th></th>\n",
       "      <th>name</th>\n",
       "      <th>description</th>\n",
       "      <th>breachdate</th>\n",
       "      <th>addeddate</th>\n",
       "      <th>dataclasses</th>\n",
       "    </tr>\n",
       "  </thead>\n",
       "  <tbody>\n",
       "    <tr>\n",
       "      <th>782</th>\n",
       "      <td>VerificationsIO</td>\n",
       "      <td>In February 2019, the email address validation...</td>\n",
       "      <td>2019-02-25</td>\n",
       "      <td>2019-03-09T19:29:54Z</td>\n",
       "      <td>['Dates of birth', 'Email addresses', 'Employe...</td>\n",
       "    </tr>\n",
       "  </tbody>\n",
       "</table>\n",
       "</div>"
      ],
      "text/plain": [
       "                name                                        description  \\\n",
       "782  VerificationsIO  In February 2019, the email address validation...   \n",
       "\n",
       "    breachdate             addeddate  \\\n",
       "782 2019-02-25  2019-03-09T19:29:54Z   \n",
       "\n",
       "                                           dataclasses  \n",
       "782  ['Dates of birth', 'Email addresses', 'Employe...  "
      ]
     },
     "execution_count": 19,
     "metadata": {},
     "output_type": "execute_result"
    }
   ],
   "source": [
    "df_hibp.query(\"breachdate=='2019-02-25'\")"
   ]
  },
  {
   "cell_type": "code",
   "execution_count": 20,
   "id": "b3ce29d6",
   "metadata": {
    "ExecuteTime": {
     "end_time": "2025-02-12T14:14:24.609561Z",
     "start_time": "2025-02-12T14:14:24.599784Z"
    }
   },
   "outputs": [
    {
     "data": {
      "text/html": [
       "In February 2020, <a href=\"https://www.troyhunt.com/the-unattributable-db8151dd-data-breach\" target=\"_blank\" rel=\"noopener\">a massive trove of personal information referred to as &quot;db8151dd&quot;</a> was provided to HIBP after being found left exposed on a publicly facing Elasticsearch server. Later identified as originating from the Covve contacts app, the exposed data included extensive personal information and interactions between Covve users and their contacts. The data was provided to HIBP by <a href=\"https://dehashed.com/\" target=\"_blank\" rel=\"noopener\">dehashed.com</a>."
      ],
      "text/plain": [
       "<IPython.core.display.HTML object>"
      ]
     },
     "metadata": {},
     "output_type": "display_data"
    }
   ],
   "source": [
    "display(HTML(df_hibp.query(\"name=='db8151dd'\")[\"description\"].values[0]))"
   ]
  },
  {
   "cell_type": "code",
   "execution_count": 21,
   "id": "a8d4f3c6",
   "metadata": {
    "ExecuteTime": {
     "end_time": "2025-02-12T14:14:24.621921Z",
     "start_time": "2025-02-12T14:14:24.611774Z"
    }
   },
   "outputs": [
    {
     "data": {
      "text/html": [
       "In May 2016, <a href=\"https://www.troyhunt.com/observations-and-thoughts-on-the-linkedin-data-breach\" target=\"_blank\" rel=\"noopener\">LinkedIn had 164 million email addresses and passwords exposed</a>. Originally hacked in 2012, the data remained out of sight until being offered for sale on a dark market site 4 years later. The passwords in the breach were stored as SHA1 hashes without salt, the vast majority of which were quickly cracked in the days following the release of the data."
      ],
      "text/plain": [
       "<IPython.core.display.HTML object>"
      ]
     },
     "metadata": {},
     "output_type": "display_data"
    }
   ],
   "source": [
    "display(HTML(df_hibp.query(\"name=='LinkedIn'\")[\"description\"].values[0]))"
   ]
  },
  {
   "cell_type": "code",
   "execution_count": 22,
   "id": "35168c88",
   "metadata": {
    "ExecuteTime": {
     "end_time": "2025-02-12T14:14:24.633434Z",
     "start_time": "2025-02-12T14:14:24.624153Z"
    }
   },
   "outputs": [
    {
     "data": {
      "text/plain": [
       "\"['Email addresses', 'Passwords']\""
      ]
     },
     "execution_count": 22,
     "metadata": {},
     "output_type": "execute_result"
    }
   ],
   "source": [
    "df_hibp.query(\"name=='LinkedIn'\")[\"dataclasses\"].values[0]"
   ]
  },
  {
   "cell_type": "code",
   "execution_count": 23,
   "id": "8e8bf922",
   "metadata": {
    "ExecuteTime": {
     "end_time": "2025-02-12T14:14:24.645573Z",
     "start_time": "2025-02-12T14:14:24.635651Z"
    }
   },
   "outputs": [
    {
     "data": {
      "text/html": [
       "In February 2020, <a href=\"https://www.troyhunt.com/the-unattributable-db8151dd-data-breach\" target=\"_blank\" rel=\"noopener\">a massive trove of personal information referred to as &quot;db8151dd&quot;</a> was provided to HIBP after being found left exposed on a publicly facing Elasticsearch server. Later identified as originating from the Covve contacts app, the exposed data included extensive personal information and interactions between Covve users and their contacts. The data was provided to HIBP by <a href=\"https://dehashed.com/\" target=\"_blank\" rel=\"noopener\">dehashed.com</a>."
      ],
      "text/plain": [
       "<IPython.core.display.HTML object>"
      ]
     },
     "metadata": {},
     "output_type": "display_data"
    }
   ],
   "source": [
    "display(HTML(df_hibp.query(\"name=='db8151dd'\")[\"description\"].values[0]))"
   ]
  },
  {
   "cell_type": "code",
   "execution_count": 24,
   "id": "cdccc647",
   "metadata": {
    "ExecuteTime": {
     "end_time": "2025-02-12T14:14:24.657840Z",
     "start_time": "2025-02-12T14:14:24.647889Z"
    }
   },
   "outputs": [
    {
     "data": {
      "text/plain": [
       "\"['Email addresses', 'Job titles', 'Names', 'Phone numbers', 'Physical addresses', 'Social media profiles']\""
      ]
     },
     "execution_count": 24,
     "metadata": {},
     "output_type": "execute_result"
    }
   ],
   "source": [
    "df_hibp.query(\"name=='db8151dd'\")[\"dataclasses\"].values[0]"
   ]
  },
  {
   "cell_type": "code",
   "execution_count": 25,
   "id": "aa401b56",
   "metadata": {
    "ExecuteTime": {
     "end_time": "2025-02-12T14:14:24.669252Z",
     "start_time": "2025-02-12T14:14:24.659610Z"
    }
   },
   "outputs": [
    {
     "data": {
      "text/html": [
       "In October 2017, the blog commenting service <a href=\"https://blog.disqus.com/security-alert-user-info-breach\" target=\"_blank\" rel=\"noopener\">Disqus announced they'd suffered a data breach</a>. The breach dated back to July 2012 but wasn't identified until years later when the data finally surfaced. The breach contained over 17.5 million unique email addresses and usernames. Users who created logins on Disqus had salted SHA1 hashes of passwords whilst users who logged in via social providers only had references to those accounts."
      ],
      "text/plain": [
       "<IPython.core.display.HTML object>"
      ]
     },
     "metadata": {},
     "output_type": "display_data"
    }
   ],
   "source": [
    "display(HTML(df_hibp.query(\"name=='Disqus'\")[\"description\"].values[0]))"
   ]
  },
  {
   "cell_type": "code",
   "execution_count": 26,
   "id": "4112a352",
   "metadata": {
    "ExecuteTime": {
     "end_time": "2025-02-12T14:14:24.683769Z",
     "start_time": "2025-02-12T14:14:24.671350Z"
    }
   },
   "outputs": [
    {
     "data": {
      "text/html": [
       "In mid-2012, Dropbox suffered a data breach which exposed the stored credentials of tens of millions of their customers. In August 2016, <a href=\"https://motherboard.vice.com/read/dropbox-forces-password-resets-after-user-credentials-exposed\" target=\"_blank\" rel=\"noopener\">they forced password resets for customers they believed may be at risk</a>. A large volume of data totalling over 68 million records <a href=\"https://motherboard.vice.com/read/hackers-stole-over-60-million-dropbox-accounts\" target=\"_blank\" rel=\"noopener\">was subsequently traded online</a> and included email addresses and salted hashes of passwords (half of them SHA1, half of them bcrypt)."
      ],
      "text/plain": [
       "<IPython.core.display.HTML object>"
      ]
     },
     "metadata": {},
     "output_type": "display_data"
    }
   ],
   "source": [
    "display(HTML(df_hibp.query(\"name=='Dropbox'\")[\"description\"].values[0]))"
   ]
  },
  {
   "cell_type": "code",
   "execution_count": 27,
   "id": "ef5a3f9b",
   "metadata": {
    "ExecuteTime": {
     "end_time": "2025-02-12T14:14:24.695481Z",
     "start_time": "2025-02-12T14:14:24.685669Z"
    }
   },
   "outputs": [
    {
     "data": {
      "text/html": [
       "In February 2019, the email address validation service <a href=\"https://securitydiscovery.com/800-million-emails-leaked-online-by-email-verification-service\" target=\"_blank\" rel=\"noopener\">verifications.io suffered a data breach</a>. Discovered by <a href=\"https://twitter.com/mayhemdayone\" target=\"_blank\" rel=\"noopener\">Bob Diachenko</a> and <a href=\"https://twitter.com/vinnytroia\" target=\"_blank\" rel=\"noopener\">Vinny Troia</a>, the breach was due to the data being stored in a MongoDB instance left publicly facing without a password and resulted in 763 million unique email addresses being exposed. Many records within the data also included additional personal attributes such as names, phone numbers, IP addresses, dates of birth and genders. No passwords were included in the data. The Verifications.io website went offline during the disclosure process, although <a href=\"https://web.archive.org/web/20190227230352/https://verifications.io/\" target=\"_blank\" rel=\"noopener\">an archived copy remains viewable</a>."
      ],
      "text/plain": [
       "<IPython.core.display.HTML object>"
      ]
     },
     "metadata": {},
     "output_type": "display_data"
    }
   ],
   "source": [
    "display(HTML(df_hibp.query(\"name=='VerificationsIO'\")[\"description\"].values[0]))"
   ]
  },
  {
   "cell_type": "code",
   "execution_count": 28,
   "id": "06bd95e9",
   "metadata": {
    "ExecuteTime": {
     "end_time": "2025-02-12T14:14:24.707830Z",
     "start_time": "2025-02-12T14:14:24.699053Z"
    }
   },
   "outputs": [
    {
     "data": {
      "text/html": [
       "In August 2017, a spambot by the name of <a href=\"https://benkowlab.blogspot.com.au/2017/08/from-onliner-spambot-to-millions-of.html\" target=\"_blank\" rel=\"noopener\">Onliner Spambot was identified by security researcher Benkow moʞuƎq</a>. The malicious software contained a server-based component located on an IP address in the Netherlands which exposed a large number of files containing personal information. In total, there were 711 million unique email addresses, many of which were also accompanied by corresponding passwords. A full write-up on what data was found is in the blog post titled <a href=\"https://www.troyhunt.com/inside-the-massive-711-million-record-onliner-spambot-dump\" target=\"_blank\" rel=\"noopener\">Inside the Massive 711 Million Record Onliner Spambot Dump</a>."
      ],
      "text/plain": [
       "<IPython.core.display.HTML object>"
      ]
     },
     "metadata": {},
     "output_type": "display_data"
    }
   ],
   "source": [
    "display(HTML(df_hibp.query(\"name=='OnlinerSpambot'\")[\"description\"].values[0]))"
   ]
  },
  {
   "cell_type": "code",
   "execution_count": 29,
   "id": "ab01dea2",
   "metadata": {
    "ExecuteTime": {
     "end_time": "2025-02-12T14:14:24.719766Z",
     "start_time": "2025-02-12T14:14:24.709846Z"
    }
   },
   "outputs": [
    {
     "data": {
      "text/plain": [
       "\"['Email addresses', 'Passwords']\""
      ]
     },
     "execution_count": 29,
     "metadata": {},
     "output_type": "execute_result"
    }
   ],
   "source": [
    "df_hibp.query(\"name=='OnlinerSpambot'\")[\"dataclasses\"].values[0]"
   ]
  },
  {
   "cell_type": "code",
   "execution_count": 47,
   "id": "f0649cfa",
   "metadata": {
    "ExecuteTime": {
     "end_time": "2025-02-13T06:43:58.545323Z",
     "start_time": "2025-02-13T06:43:39.572835Z"
    }
   },
   "outputs": [
    {
     "data": {
      "image/png": "[encoded data removed]",
      "text/plain": [
       "<Figure size 1152x648 with 3 Axes>"
      ]
     },
     "metadata": {
      "needs_background": "light"
     },
     "output_type": "display_data"
    }
   ],
   "source": [
    "# Create a figure with three panels (sharing x-axis)\n",
    "_scale = 1\n",
    "_aspect_ratio = (16, 9)\n",
    "figsize = tuple(k * _scale for k in _aspect_ratio)\n",
    "fig, (ax1, ax2, ax3) = plt.subplots(\n",
    "    3, 1, figsize=figsize, sharex=True, gridspec_kw={\"height_ratios\": [5, 1, 1]}\n",
    ")\n",
    "\n",
    "LABSIZE = 16\n",
    "TICKERSIZE = 14\n",
    "ANNOTESIZE = 14\n",
    "\n",
    "# ============================================================================\n",
    "# PANEL A\n",
    "ax1.plot(\n",
    "    df_dates[\"date\"], df_dates[\"pr\"], color=\"0.4\", linestyle=\"-\", lw=1.5, alpha=0.5\n",
    ")\n",
    "ax1.scatter(df_dates[\"date\"], df_dates[\"pr\"], color=\"navy\", s=5, marker=\"o\", alpha=0.1)\n",
    "\n",
    "ax1.yaxis.set_major_formatter(ticker.FuncFormatter(percentage_formatter))\n",
    "ax1.set_ylabel(\"Percentage of\\nbreached accounts\", fontsize=LABSIZE)\n",
    "ax1.tick_params(axis=\"both\", labelsize=TICKERSIZE)\n",
    "ax1.grid(axis=\"y\", linestyle=\"--\", alpha=0.5)\n",
    "\n",
    "# ============================================================================\n",
    "# PANEL B\n",
    "ax2.plot(\n",
    "    df_dates[\"date\"],\n",
    "    df_dates[\"n_emails\"],\n",
    "    color=\"navy\",\n",
    "    linestyle=\"-\",\n",
    "    lw=0.8,\n",
    "    alpha=0.9,\n",
    ")\n",
    "ax2.scatter(\n",
    "    df_dates[\"date\"], df_dates[\"n_emails\"], color=\".5\", s=5, marker=\"o\", alpha=0.1\n",
    ")\n",
    "\n",
    "# Label for second panel\n",
    "ax2.set_ylabel(\"Total\\nemails\", fontsize=LABSIZE)\n",
    "ax2.tick_params(axis=\"both\", labelsize=TICKERSIZE)\n",
    "ax2.grid(axis=\"y\", linestyle=\"--\", alpha=0.5)\n",
    "\n",
    "\n",
    "def thousands_formatter(x, pos):\n",
    "    # Adds comma separator for thousands\n",
    "    #     return f\"{x:,.0f}\"\n",
    "    # Converts to thousands with 'k' suffix\n",
    "    return f\"{x / 1_000:.0f}k\"\n",
    "\n",
    "\n",
    "ax2.yaxis.set_major_formatter(ticker.FuncFormatter(thousands_formatter))\n",
    "\n",
    "# ============================================================================\n",
    "# PANEL C\n",
    "ax3.plot(\n",
    "    df_hibp_dates[\"date\"],\n",
    "    df_hibp_dates[\"n_breaches\"],\n",
    "    color=\"navy\",\n",
    "    linestyle=\"-\",\n",
    "    lw=0.8,\n",
    "    alpha=0.9,\n",
    ")\n",
    "ax3.scatter(\n",
    "    df_hibp_dates[\"date\"],\n",
    "    df_hibp_dates[\"n_breaches\"],\n",
    "    color=\".5\",\n",
    "    s=5,\n",
    "    marker=\"o\",\n",
    "    alpha=0.1,\n",
    ")\n",
    "\n",
    "ax3.set_ylabel(\"Total public\\nbreaches\", fontsize=LABSIZE)\n",
    "ax3.tick_params(axis=\"both\", labelsize=TICKERSIZE)\n",
    "ax3.grid(axis=\"y\", linestyle=\"--\", alpha=0.5)\n",
    "\n",
    "# ============================================================================\n",
    "# Annotate last email date\n",
    "formatted_leg_start_date = latest_leg_start_date.strftime(\"%d %b %Y\")\n",
    "\n",
    "_LINESTYLE = dict(\n",
    "    x=latest_leg_start_date, color=\"navy\", linestyle=(0, (8, 5)), linewidth=1.5\n",
    ")\n",
    "ax1.axvline(**_LINESTYLE)\n",
    "ax2.axvline(**_LINESTYLE)\n",
    "ax3.axvline(**_LINESTYLE)\n",
    "ax2.text(\n",
    "    latest_leg_start_date + pd.Timedelta(days=20),\n",
    "    ax2.get_ylim()[1] * 0.8,\n",
    "    f\"Final email added\\n({formatted_leg_start_date})\",\n",
    "    color=\".2\",\n",
    "    fontsize=ANNOTESIZE,\n",
    "    rotation=0,\n",
    "    ha=\"left\",\n",
    "    va=\"top\",\n",
    ")\n",
    "\n",
    "# ============================================================================\n",
    "# Annotate\n",
    "top_jumps = df_dates.nlargest(5, \"pr_diff\")\n",
    "\n",
    "for _, row in top_jumps.iterrows():\n",
    "    breach_date = row[\"date\"] - pd.Timedelta(days=1)  # Take the day before\n",
    "    breaches = df_hibp.query(f\"breachdate=='{breach_date.strftime('%Y-%m-%d')}'\")[\n",
    "        \"name\"\n",
    "    ].tolist()\n",
    "    if breaches:\n",
    "        breach_label = \",\\n\".join(breaches)  # Join multiple breaches with line breaks\n",
    "    else:\n",
    "        breach_label = \"Unknown Breach\"\n",
    "\n",
    "    _LINESTYLE = dict(\n",
    "        x=breach_date,\n",
    "        color=\"maroon\",\n",
    "        linestyle=\"--\",\n",
    "        linewidth=1.5,\n",
    "        alpha=0.5,\n",
    "    )\n",
    "    ax1.axvline(**_LINESTYLE)\n",
    "    ax2.axvline(**_LINESTYLE)\n",
    "    ax3.axvline(**_LINESTYLE)\n",
    "    if breach_label == \"Disqus,\\nDropbox\":\n",
    "        _ypad = 0.005\n",
    "    else:\n",
    "        _ypad = -0.02\n",
    "    ax1.text(\n",
    "        # for horizontal padding, dont remove timedelta\n",
    "        row[\"date\"] - pd.Timedelta(days=20),\n",
    "        row[\"pr\"] + _ypad,\n",
    "        f\"{breach_label}\\n({breach_date.strftime('%-d %b %Y')})\",\n",
    "        color=\".2\",\n",
    "        fontsize=ANNOTESIZE,\n",
    "        ha=\"right\",\n",
    "        va=\"bottom\",\n",
    "    )\n",
    "\n",
    "# ============================================================================\n",
    "plt.xlabel(\"Date\", fontsize=LABSIZE)\n",
    "plt.tight_layout()\n",
    "\n",
    "save_mpl_fig(\"../figures/breach_rate_evolution\")"
   ]
  },
  {
   "cell_type": "markdown",
   "id": "0156e6b4",
   "metadata": {},
   "source": [
    "## Option 2\n",
    "\n",
    "* subset to 679 accounts with leg_start_date before 2007"
   ]
  },
  {
   "cell_type": "code",
   "execution_count": 39,
   "id": "b8754938",
   "metadata": {
    "ExecuteTime": {
     "end_time": "2025-02-12T14:15:42.596592Z",
     "start_time": "2025-02-12T14:15:42.586387Z"
    }
   },
   "outputs": [
    {
     "data": {
      "text/html": [
       "<div>\n",
       "<style scoped>\n",
       "    .dataframe tbody tr th:only-of-type {\n",
       "        vertical-align: middle;\n",
       "    }\n",
       "\n",
       "    .dataframe tbody tr th {\n",
       "        vertical-align: top;\n",
       "    }\n",
       "\n",
       "    .dataframe thead th {\n",
       "        text-align: right;\n",
       "    }\n",
       "</style>\n",
       "<table border=\"1\" class=\"dataframe\">\n",
       "  <thead>\n",
       "    <tr style=\"text-align: right;\">\n",
       "      <th></th>\n",
       "      <th>email</th>\n",
       "      <th>source</th>\n",
       "      <th>leg_start_year</th>\n",
       "      <th>cc3</th>\n",
       "      <th>leg_start_date</th>\n",
       "    </tr>\n",
       "  </thead>\n",
       "  <tbody>\n",
       "    <tr>\n",
       "      <th>290</th>\n",
       "      <td>a.albanese.mp@aph.gov.au</td>\n",
       "      <td>ep</td>\n",
       "      <td>2004</td>\n",
       "      <td>AUS</td>\n",
       "      <td>2004-10-09</td>\n",
       "    </tr>\n",
       "    <tr>\n",
       "      <th>291</th>\n",
       "      <td>andrew.laming.mp@aph.gov.au</td>\n",
       "      <td>ep</td>\n",
       "      <td>2004</td>\n",
       "      <td>AUS</td>\n",
       "      <td>2004-10-09</td>\n",
       "    </tr>\n",
       "    <tr>\n",
       "      <th>292</th>\n",
       "      <td>anthony.byrne.mp@aph.gov.au</td>\n",
       "      <td>ep</td>\n",
       "      <td>2004</td>\n",
       "      <td>AUS</td>\n",
       "      <td>2004-10-09</td>\n",
       "    </tr>\n",
       "    <tr>\n",
       "      <th>293</th>\n",
       "      <td>bob.katter.mp@aph.gov.au</td>\n",
       "      <td>ep</td>\n",
       "      <td>2004</td>\n",
       "      <td>AUS</td>\n",
       "      <td>2004-10-09</td>\n",
       "    </tr>\n",
       "    <tr>\n",
       "      <th>294</th>\n",
       "      <td>c.pyne.mp@aph.gov.au</td>\n",
       "      <td>ep</td>\n",
       "      <td>2004</td>\n",
       "      <td>AUS</td>\n",
       "      <td>2004-10-09</td>\n",
       "    </tr>\n",
       "    <tr>\n",
       "      <th>...</th>\n",
       "      <td>...</td>\n",
       "      <td>...</td>\n",
       "      <td>...</td>\n",
       "      <td>...</td>\n",
       "      <td>...</td>\n",
       "    </tr>\n",
       "    <tr>\n",
       "      <th>9034</th>\n",
       "      <td>yamkeng@pacific.net.sg</td>\n",
       "      <td>scraped</td>\n",
       "      <td>2006</td>\n",
       "      <td>SGP</td>\n",
       "      <td>2006-11-02</td>\n",
       "    </tr>\n",
       "    <tr>\n",
       "      <th>9035</th>\n",
       "      <td>yeogk@ntuc.org.sg</td>\n",
       "      <td>scraped</td>\n",
       "      <td>2006</td>\n",
       "      <td>SGP</td>\n",
       "      <td>2006-11-02</td>\n",
       "    </tr>\n",
       "    <tr>\n",
       "      <th>9036</th>\n",
       "      <td>yishyan@mti.gov.sg</td>\n",
       "      <td>scraped</td>\n",
       "      <td>2006</td>\n",
       "      <td>SGP</td>\n",
       "      <td>2006-11-02</td>\n",
       "    </tr>\n",
       "    <tr>\n",
       "      <th>9037</th>\n",
       "      <td>zainudin_nordin@pa.gov.sg</td>\n",
       "      <td>scraped</td>\n",
       "      <td>2006</td>\n",
       "      <td>SGP</td>\n",
       "      <td>2006-11-02</td>\n",
       "    </tr>\n",
       "    <tr>\n",
       "      <th>9038</th>\n",
       "      <td>zainul_abidin_rasheed@mfa.gov.sg</td>\n",
       "      <td>scraped</td>\n",
       "      <td>2006</td>\n",
       "      <td>SGP</td>\n",
       "      <td>2006-11-02</td>\n",
       "    </tr>\n",
       "  </tbody>\n",
       "</table>\n",
       "<p>679 rows × 5 columns</p>\n",
       "</div>"
      ],
      "text/plain": [
       "                                 email   source  leg_start_year  cc3  \\\n",
       "290           a.albanese.mp@aph.gov.au       ep            2004  AUS   \n",
       "291        andrew.laming.mp@aph.gov.au       ep            2004  AUS   \n",
       "292        anthony.byrne.mp@aph.gov.au       ep            2004  AUS   \n",
       "293           bob.katter.mp@aph.gov.au       ep            2004  AUS   \n",
       "294               c.pyne.mp@aph.gov.au       ep            2004  AUS   \n",
       "...                                ...      ...             ...  ...   \n",
       "9034            yamkeng@pacific.net.sg  scraped            2006  SGP   \n",
       "9035                 yeogk@ntuc.org.sg  scraped            2006  SGP   \n",
       "9036                yishyan@mti.gov.sg  scraped            2006  SGP   \n",
       "9037         zainudin_nordin@pa.gov.sg  scraped            2006  SGP   \n",
       "9038  zainul_abidin_rasheed@mfa.gov.sg  scraped            2006  SGP   \n",
       "\n",
       "     leg_start_date  \n",
       "290      2004-10-09  \n",
       "291      2004-10-09  \n",
       "292      2004-10-09  \n",
       "293      2004-10-09  \n",
       "294      2004-10-09  \n",
       "...             ...  \n",
       "9034     2006-11-02  \n",
       "9035     2006-11-02  \n",
       "9036     2006-11-02  \n",
       "9037     2006-11-02  \n",
       "9038     2006-11-02  \n",
       "\n",
       "[679 rows x 5 columns]"
      ]
     },
     "execution_count": 39,
     "metadata": {},
     "output_type": "execute_result"
    }
   ],
   "source": [
    "df_emails_subset = df_emails.query(\"leg_start_date<'2007-01-01'\")\n",
    "df_emails_subset"
   ]
  },
  {
   "cell_type": "code",
   "execution_count": 40,
   "id": "8280d2dc",
   "metadata": {
    "ExecuteTime": {
     "end_time": "2025-02-12T14:15:46.476887Z",
     "start_time": "2025-02-12T14:15:43.089734Z"
    }
   },
   "outputs": [
    {
     "data": {
      "text/html": [
       "<div>\n",
       "<style scoped>\n",
       "    .dataframe tbody tr th:only-of-type {\n",
       "        vertical-align: middle;\n",
       "    }\n",
       "\n",
       "    .dataframe tbody tr th {\n",
       "        vertical-align: top;\n",
       "    }\n",
       "\n",
       "    .dataframe thead th {\n",
       "        text-align: right;\n",
       "    }\n",
       "</style>\n",
       "<table border=\"1\" class=\"dataframe\">\n",
       "  <thead>\n",
       "    <tr style=\"text-align: right;\">\n",
       "      <th></th>\n",
       "      <th>date</th>\n",
       "      <th>emails</th>\n",
       "      <th>n_emails</th>\n",
       "    </tr>\n",
       "  </thead>\n",
       "  <tbody>\n",
       "    <tr>\n",
       "      <th>0</th>\n",
       "      <td>1997-05-01</td>\n",
       "      <td>[alan.campbell.mp@parliament.uk, alan.duncan.m...</td>\n",
       "      <td>117</td>\n",
       "    </tr>\n",
       "    <tr>\n",
       "      <th>1</th>\n",
       "      <td>1997-05-02</td>\n",
       "      <td>[alan.campbell.mp@parliament.uk, alan.duncan.m...</td>\n",
       "      <td>117</td>\n",
       "    </tr>\n",
       "    <tr>\n",
       "      <th>2</th>\n",
       "      <td>1997-05-03</td>\n",
       "      <td>[alan.campbell.mp@parliament.uk, alan.duncan.m...</td>\n",
       "      <td>117</td>\n",
       "    </tr>\n",
       "    <tr>\n",
       "      <th>3</th>\n",
       "      <td>1997-05-04</td>\n",
       "      <td>[alan.campbell.mp@parliament.uk, alan.duncan.m...</td>\n",
       "      <td>117</td>\n",
       "    </tr>\n",
       "    <tr>\n",
       "      <th>4</th>\n",
       "      <td>1997-05-05</td>\n",
       "      <td>[alan.campbell.mp@parliament.uk, alan.duncan.m...</td>\n",
       "      <td>117</td>\n",
       "    </tr>\n",
       "    <tr>\n",
       "      <th>...</th>\n",
       "      <td>...</td>\n",
       "      <td>...</td>\n",
       "      <td>...</td>\n",
       "    </tr>\n",
       "    <tr>\n",
       "      <th>10134</th>\n",
       "      <td>2025-01-28</td>\n",
       "      <td>[a.albanese.mp@aph.gov.au, andrew.laming.mp@ap...</td>\n",
       "      <td>679</td>\n",
       "    </tr>\n",
       "    <tr>\n",
       "      <th>10135</th>\n",
       "      <td>2025-01-29</td>\n",
       "      <td>[a.albanese.mp@aph.gov.au, andrew.laming.mp@ap...</td>\n",
       "      <td>679</td>\n",
       "    </tr>\n",
       "    <tr>\n",
       "      <th>10136</th>\n",
       "      <td>2025-01-30</td>\n",
       "      <td>[a.albanese.mp@aph.gov.au, andrew.laming.mp@ap...</td>\n",
       "      <td>679</td>\n",
       "    </tr>\n",
       "    <tr>\n",
       "      <th>10137</th>\n",
       "      <td>2025-01-31</td>\n",
       "      <td>[a.albanese.mp@aph.gov.au, andrew.laming.mp@ap...</td>\n",
       "      <td>679</td>\n",
       "    </tr>\n",
       "    <tr>\n",
       "      <th>10138</th>\n",
       "      <td>2025-02-01</td>\n",
       "      <td>[a.albanese.mp@aph.gov.au, andrew.laming.mp@ap...</td>\n",
       "      <td>679</td>\n",
       "    </tr>\n",
       "  </tbody>\n",
       "</table>\n",
       "<p>10139 rows × 3 columns</p>\n",
       "</div>"
      ],
      "text/plain": [
       "            date                                             emails  n_emails\n",
       "0     1997-05-01  [alan.campbell.mp@parliament.uk, alan.duncan.m...       117\n",
       "1     1997-05-02  [alan.campbell.mp@parliament.uk, alan.duncan.m...       117\n",
       "2     1997-05-03  [alan.campbell.mp@parliament.uk, alan.duncan.m...       117\n",
       "3     1997-05-04  [alan.campbell.mp@parliament.uk, alan.duncan.m...       117\n",
       "4     1997-05-05  [alan.campbell.mp@parliament.uk, alan.duncan.m...       117\n",
       "...          ...                                                ...       ...\n",
       "10134 2025-01-28  [a.albanese.mp@aph.gov.au, andrew.laming.mp@ap...       679\n",
       "10135 2025-01-29  [a.albanese.mp@aph.gov.au, andrew.laming.mp@ap...       679\n",
       "10136 2025-01-30  [a.albanese.mp@aph.gov.au, andrew.laming.mp@ap...       679\n",
       "10137 2025-01-31  [a.albanese.mp@aph.gov.au, andrew.laming.mp@ap...       679\n",
       "10138 2025-02-01  [a.albanese.mp@aph.gov.au, andrew.laming.mp@ap...       679\n",
       "\n",
       "[10139 rows x 3 columns]"
      ]
     },
     "execution_count": 40,
     "metadata": {},
     "output_type": "execute_result"
    }
   ],
   "source": [
    "df_dates_subset = (\n",
    "    pd.DataFrame({\"date\": dates_ts})\n",
    "    .assign(\n",
    "        emails=lambda df_: df_[\"date\"].apply(\n",
    "            emails_active_on, dataframe=df_emails_subset\n",
    "        )\n",
    "    )\n",
    "    .assign(n_emails=lambda df_: df_[\"emails\"].apply(len))\n",
    ")\n",
    "df_dates_subset"
   ]
  },
  {
   "cell_type": "code",
   "execution_count": 41,
   "id": "8554c240",
   "metadata": {
    "ExecuteTime": {
     "end_time": "2025-02-12T14:15:47.107794Z",
     "start_time": "2025-02-12T14:15:46.478986Z"
    }
   },
   "outputs": [
    {
     "data": {
      "text/html": [
       "<div>\n",
       "<style scoped>\n",
       "    .dataframe tbody tr th:only-of-type {\n",
       "        vertical-align: middle;\n",
       "    }\n",
       "\n",
       "    .dataframe tbody tr th {\n",
       "        vertical-align: top;\n",
       "    }\n",
       "\n",
       "    .dataframe thead th {\n",
       "        text-align: right;\n",
       "    }\n",
       "</style>\n",
       "<table border=\"1\" class=\"dataframe\">\n",
       "  <thead>\n",
       "    <tr style=\"text-align: right;\">\n",
       "      <th></th>\n",
       "      <th>date</th>\n",
       "      <th>emails</th>\n",
       "      <th>n_emails</th>\n",
       "      <th>breached_emails</th>\n",
       "      <th>n_breached_emails</th>\n",
       "      <th>pr</th>\n",
       "      <th>pr_diff</th>\n",
       "    </tr>\n",
       "  </thead>\n",
       "  <tbody>\n",
       "    <tr>\n",
       "      <th>3533</th>\n",
       "      <td>2007-01-02</td>\n",
       "      <td>[a.albanese.mp@aph.gov.au, andrew.laming.mp@ap...</td>\n",
       "      <td>679</td>\n",
       "      <td>[]</td>\n",
       "      <td>0</td>\n",
       "      <td>0.00000</td>\n",
       "      <td>0.0</td>\n",
       "    </tr>\n",
       "    <tr>\n",
       "      <th>3534</th>\n",
       "      <td>2007-01-03</td>\n",
       "      <td>[a.albanese.mp@aph.gov.au, andrew.laming.mp@ap...</td>\n",
       "      <td>679</td>\n",
       "      <td>[]</td>\n",
       "      <td>0</td>\n",
       "      <td>0.00000</td>\n",
       "      <td>0.0</td>\n",
       "    </tr>\n",
       "    <tr>\n",
       "      <th>3535</th>\n",
       "      <td>2007-01-04</td>\n",
       "      <td>[a.albanese.mp@aph.gov.au, andrew.laming.mp@ap...</td>\n",
       "      <td>679</td>\n",
       "      <td>[]</td>\n",
       "      <td>0</td>\n",
       "      <td>0.00000</td>\n",
       "      <td>0.0</td>\n",
       "    </tr>\n",
       "    <tr>\n",
       "      <th>3536</th>\n",
       "      <td>2007-01-05</td>\n",
       "      <td>[a.albanese.mp@aph.gov.au, andrew.laming.mp@ap...</td>\n",
       "      <td>679</td>\n",
       "      <td>[]</td>\n",
       "      <td>0</td>\n",
       "      <td>0.00000</td>\n",
       "      <td>0.0</td>\n",
       "    </tr>\n",
       "    <tr>\n",
       "      <th>3537</th>\n",
       "      <td>2007-01-06</td>\n",
       "      <td>[a.albanese.mp@aph.gov.au, andrew.laming.mp@ap...</td>\n",
       "      <td>679</td>\n",
       "      <td>[]</td>\n",
       "      <td>0</td>\n",
       "      <td>0.00000</td>\n",
       "      <td>0.0</td>\n",
       "    </tr>\n",
       "    <tr>\n",
       "      <th>...</th>\n",
       "      <td>...</td>\n",
       "      <td>...</td>\n",
       "      <td>...</td>\n",
       "      <td>...</td>\n",
       "      <td>...</td>\n",
       "      <td>...</td>\n",
       "      <td>...</td>\n",
       "    </tr>\n",
       "    <tr>\n",
       "      <th>10134</th>\n",
       "      <td>2025-01-28</td>\n",
       "      <td>[a.albanese.mp@aph.gov.au, andrew.laming.mp@ap...</td>\n",
       "      <td>679</td>\n",
       "      <td>[andrew.laming.mp@aph.gov.au, jmacklin.mp@aph....</td>\n",
       "      <td>454</td>\n",
       "      <td>0.66863</td>\n",
       "      <td>0.0</td>\n",
       "    </tr>\n",
       "    <tr>\n",
       "      <th>10135</th>\n",
       "      <td>2025-01-29</td>\n",
       "      <td>[a.albanese.mp@aph.gov.au, andrew.laming.mp@ap...</td>\n",
       "      <td>679</td>\n",
       "      <td>[andrew.laming.mp@aph.gov.au, jmacklin.mp@aph....</td>\n",
       "      <td>454</td>\n",
       "      <td>0.66863</td>\n",
       "      <td>0.0</td>\n",
       "    </tr>\n",
       "    <tr>\n",
       "      <th>10136</th>\n",
       "      <td>2025-01-30</td>\n",
       "      <td>[a.albanese.mp@aph.gov.au, andrew.laming.mp@ap...</td>\n",
       "      <td>679</td>\n",
       "      <td>[andrew.laming.mp@aph.gov.au, jmacklin.mp@aph....</td>\n",
       "      <td>454</td>\n",
       "      <td>0.66863</td>\n",
       "      <td>0.0</td>\n",
       "    </tr>\n",
       "    <tr>\n",
       "      <th>10137</th>\n",
       "      <td>2025-01-31</td>\n",
       "      <td>[a.albanese.mp@aph.gov.au, andrew.laming.mp@ap...</td>\n",
       "      <td>679</td>\n",
       "      <td>[andrew.laming.mp@aph.gov.au, jmacklin.mp@aph....</td>\n",
       "      <td>454</td>\n",
       "      <td>0.66863</td>\n",
       "      <td>0.0</td>\n",
       "    </tr>\n",
       "    <tr>\n",
       "      <th>10138</th>\n",
       "      <td>2025-02-01</td>\n",
       "      <td>[a.albanese.mp@aph.gov.au, andrew.laming.mp@ap...</td>\n",
       "      <td>679</td>\n",
       "      <td>[andrew.laming.mp@aph.gov.au, jmacklin.mp@aph....</td>\n",
       "      <td>454</td>\n",
       "      <td>0.66863</td>\n",
       "      <td>0.0</td>\n",
       "    </tr>\n",
       "  </tbody>\n",
       "</table>\n",
       "<p>6606 rows × 7 columns</p>\n",
       "</div>"
      ],
      "text/plain": [
       "            date                                             emails  n_emails  \\\n",
       "3533  2007-01-02  [a.albanese.mp@aph.gov.au, andrew.laming.mp@ap...       679   \n",
       "3534  2007-01-03  [a.albanese.mp@aph.gov.au, andrew.laming.mp@ap...       679   \n",
       "3535  2007-01-04  [a.albanese.mp@aph.gov.au, andrew.laming.mp@ap...       679   \n",
       "3536  2007-01-05  [a.albanese.mp@aph.gov.au, andrew.laming.mp@ap...       679   \n",
       "3537  2007-01-06  [a.albanese.mp@aph.gov.au, andrew.laming.mp@ap...       679   \n",
       "...          ...                                                ...       ...   \n",
       "10134 2025-01-28  [a.albanese.mp@aph.gov.au, andrew.laming.mp@ap...       679   \n",
       "10135 2025-01-29  [a.albanese.mp@aph.gov.au, andrew.laming.mp@ap...       679   \n",
       "10136 2025-01-30  [a.albanese.mp@aph.gov.au, andrew.laming.mp@ap...       679   \n",
       "10137 2025-01-31  [a.albanese.mp@aph.gov.au, andrew.laming.mp@ap...       679   \n",
       "10138 2025-02-01  [a.albanese.mp@aph.gov.au, andrew.laming.mp@ap...       679   \n",
       "\n",
       "                                         breached_emails  n_breached_emails  \\\n",
       "3533                                                  []                  0   \n",
       "3534                                                  []                  0   \n",
       "3535                                                  []                  0   \n",
       "3536                                                  []                  0   \n",
       "3537                                                  []                  0   \n",
       "...                                                  ...                ...   \n",
       "10134  [andrew.laming.mp@aph.gov.au, jmacklin.mp@aph....                454   \n",
       "10135  [andrew.laming.mp@aph.gov.au, jmacklin.mp@aph....                454   \n",
       "10136  [andrew.laming.mp@aph.gov.au, jmacklin.mp@aph....                454   \n",
       "10137  [andrew.laming.mp@aph.gov.au, jmacklin.mp@aph....                454   \n",
       "10138  [andrew.laming.mp@aph.gov.au, jmacklin.mp@aph....                454   \n",
       "\n",
       "            pr  pr_diff  \n",
       "3533   0.00000      0.0  \n",
       "3534   0.00000      0.0  \n",
       "3535   0.00000      0.0  \n",
       "3536   0.00000      0.0  \n",
       "3537   0.00000      0.0  \n",
       "...        ...      ...  \n",
       "10134  0.66863      0.0  \n",
       "10135  0.66863      0.0  \n",
       "10136  0.66863      0.0  \n",
       "10137  0.66863      0.0  \n",
       "10138  0.66863      0.0  \n",
       "\n",
       "[6606 rows x 7 columns]"
      ]
     },
     "execution_count": 41,
     "metadata": {},
     "output_type": "execute_result"
    }
   ],
   "source": [
    "df_dates_subset[\"breached_emails\"] = df_dates_subset.apply(\n",
    "    lambda row: breached_before(row[\"date\"], row[\"emails\"]), axis=1\n",
    ")\n",
    "df_dates_subset[\"n_breached_emails\"] = df_dates_subset[\"breached_emails\"].apply(len)\n",
    "df_dates_subset[\"pr\"] = (\n",
    "    df_dates_subset[\"n_breached_emails\"] / df_dates_subset[\"n_emails\"]\n",
    ")\n",
    "df_dates_subset[\"pr_diff\"] = df_dates_subset[\"pr\"].diff()\n",
    "df_dates_subset = df_dates_subset.query(\"date>'2007-01-01'\")\n",
    "\n",
    "df_dates_subset"
   ]
  },
  {
   "cell_type": "code",
   "execution_count": 43,
   "id": "c9464590",
   "metadata": {
    "ExecuteTime": {
     "end_time": "2025-02-12T14:15:57.547179Z",
     "start_time": "2025-02-12T14:15:56.755089Z"
    }
   },
   "outputs": [
    {
     "data": {
      "image/png": "[encoded data removed]",
      "text/plain": [
       "<Figure size 1152x648 with 1 Axes>"
      ]
     },
     "metadata": {
      "needs_background": "light"
     },
     "output_type": "display_data"
    }
   ],
   "source": [
    "_scale = 1\n",
    "_aspect_ratio = (16, 9)\n",
    "figsize = tuple(k * _scale for k in _aspect_ratio)\n",
    "_, ax = plt.subplots(figsize=figsize)\n",
    "\n",
    "plt.plot(\n",
    "    df_dates_subset[\"date\"],\n",
    "    df_dates_subset[\"pr\"],\n",
    "    color=\"0\",\n",
    "    linestyle=\"-\",\n",
    "    lw=0.5,\n",
    "    alpha=0.9,\n",
    ")\n",
    "plt.scatter(\n",
    "    df_dates_subset[\"date\"],\n",
    "    df_dates_subset[\"pr\"],\n",
    "    color=\"navy\",\n",
    "    s=5,\n",
    "    marker=\"o\",\n",
    "    alpha=0.1,\n",
    ")\n",
    "\n",
    "# ============================================================================\n",
    "\n",
    "\n",
    "def percentage_formatter(x, pos):\n",
    "    # Convert proportion to percentage format\n",
    "    return f\"{x:.0%}\"\n",
    "\n",
    "\n",
    "ax.yaxis.set_major_formatter(ticker.FuncFormatter(percentage_formatter))\n",
    "\n",
    "\n",
    "# ============================================================================\n",
    "# Annotate\n",
    "ANNOTESIZE = 10\n",
    "top_jumps = df_dates_subset.nlargest(10, \"pr_diff\")\n",
    "\n",
    "for _, row in top_jumps.iterrows():\n",
    "    breach_date = row[\"date\"] - pd.Timedelta(days=1)  # Take the day before\n",
    "    breaches = df_hibp.query(f\"breachdate=='{breach_date.strftime('%Y-%m-%d')}'\")[\n",
    "        \"name\"\n",
    "    ].tolist()\n",
    "    if breaches:\n",
    "        breach_label = \",\\n\".join(breaches)\n",
    "    else:\n",
    "        breach_label = \"Unknown Breach\"\n",
    "    #     print(breaches)\n",
    "    #     _LINESTYLE = dict(x=breach_date, color=\"maroon\", linestyle=\"--\", linewidth=1.5, alpha=.5,)\n",
    "    #     ax.axvline(**_LINESTYLE)\n",
    "    if breach_label == \"Disqus,\\nDropbox\":\n",
    "        _ypad = 0.03\n",
    "    elif breach_label == \"Adobe\":\n",
    "        _ypad = 0.003\n",
    "    elif breach_label == \"MySpace\":\n",
    "        _ypad = -0.01\n",
    "    else:\n",
    "        _ypad = -0.02\n",
    "    if \"CloudPets\" not in breach_label:  # string too long\n",
    "        ax.text(\n",
    "            # for horizontal padding, dont remove timedelta\n",
    "            row[\"date\"] - pd.Timedelta(days=20),\n",
    "            row[\"pr\"] + _ypad,\n",
    "            f\"{breach_label}\\n({breach_date.strftime('%-d %b %Y')})\",\n",
    "            color=\".2\",\n",
    "            fontsize=ANNOTESIZE,\n",
    "            ha=\"right\",\n",
    "            va=\"bottom\",\n",
    "        )\n",
    "\n",
    "# ============================================================================\n",
    "plt.xlabel(\"Date\", fontsize=18)\n",
    "plt.ylabel(\"Percentage of breached accounts\", fontsize=18)\n",
    "ax.tick_params(axis=\"both\", labelsize=15)\n",
    "ax.grid(axis=\"y\", linestyle=\"--\", alpha=0.5)\n",
    "plt.tight_layout()\n",
    "\n",
    "save_mpl_fig(\"../figures/breach_rate_evolution_pre2007_fixedcohort\")"
   ]
  },
  {
   "cell_type": "code",
   "execution_count": null,
   "id": "24bdbf46",
   "metadata": {},
   "outputs": [],
   "source": []
  }
 ],
 "metadata": {
  "kernelspec": {
   "display_name": "Python 3.11 (Data Science)",
   "language": "python",
   "name": "py311ds"
  },
  "language_info": {
   "codemirror_mode": {
    "name": "ipython",
    "version": 3
   },
   "file_extension": ".py",
   "mimetype": "text/x-python",
   "name": "python",
   "nbconvert_exporter": "python",
   "pygments_lexer": "ipython3",
   "version": "3.11.11"
  },
  "toc": {
   "base_numbering": 1,
   "nav_menu": {},
   "number_sections": true,
   "sideBar": true,
   "skip_h1_title": false,
   "title_cell": "Table of Contents",
   "title_sidebar": "Contents",
   "toc_cell": false,
   "toc_position": {},
   "toc_section_display": true,
   "toc_window_display": true
  }
 },
 "nbformat": 4,
 "nbformat_minor": 5
}
