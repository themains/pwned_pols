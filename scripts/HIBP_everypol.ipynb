{
 "cells": [
  {
   "cell_type": "markdown",
   "id": "9d721678",
   "metadata": {},
   "source": [
    "### Get HIBP data for everypol (Including metadata on breaches) + Merge"
   ]
  },
  {
   "cell_type": "code",
   "execution_count": 1,
   "id": "5c276191",
   "metadata": {},
   "outputs": [],
   "source": [
    "import os\n",
    "import json\n",
    "import re\n",
    "import requests\n",
    "import time\n",
    "import logging\n",
    "import pandas as pd"
   ]
  },
  {
   "cell_type": "code",
   "execution_count": 2,
   "id": "d6af3966",
   "metadata": {},
   "outputs": [],
   "source": [
    "logging.basicConfig(\n",
    "    filename=\"hibp_errors.log\",\n",
    "    level=logging.INFO,\n",
    "    format=\"%(asctime)s - %(levelname)s - %(message)s\"\n",
    ")"
   ]
  },
  {
   "cell_type": "code",
   "execution_count": 3,
   "id": "95537cce",
   "metadata": {},
   "outputs": [
    {
     "data": {
      "text/html": [
       "<div>\n",
       "<style scoped>\n",
       "    .dataframe tbody tr th:only-of-type {\n",
       "        vertical-align: middle;\n",
       "    }\n",
       "\n",
       "    .dataframe tbody tr th {\n",
       "        vertical-align: top;\n",
       "    }\n",
       "\n",
       "    .dataframe thead th {\n",
       "        text-align: right;\n",
       "    }\n",
       "</style>\n",
       "<table border=\"1\" class=\"dataframe\">\n",
       "  <thead>\n",
       "    <tr style=\"text-align: right;\">\n",
       "      <th></th>\n",
       "      <th>email</th>\n",
       "    </tr>\n",
       "  </thead>\n",
       "  <tbody>\n",
       "    <tr>\n",
       "      <th>0</th>\n",
       "      <td>shivajirao@sansad.nic.in</td>\n",
       "    </tr>\n",
       "    <tr>\n",
       "      <th>1</th>\n",
       "      <td>adhikari.deepak@sansad.nic.in</td>\n",
       "    </tr>\n",
       "    <tr>\n",
       "      <th>2</th>\n",
       "      <td>sisiradhikari76@yahoo.com</td>\n",
       "    </tr>\n",
       "    <tr>\n",
       "      <th>3</th>\n",
       "      <td>adhikari.suvendu@sansad.nic.in</td>\n",
       "    </tr>\n",
       "    <tr>\n",
       "      <th>4</th>\n",
       "      <td>yogi.adityanath@sansad.nic.in</td>\n",
       "    </tr>\n",
       "  </tbody>\n",
       "</table>\n",
       "</div>"
      ],
      "text/plain": [
       "                            email\n",
       "0        shivajirao@sansad.nic.in\n",
       "1   adhikari.deepak@sansad.nic.in\n",
       "2       sisiradhikari76@yahoo.com\n",
       "3  adhikari.suvendu@sansad.nic.in\n",
       "4   yogi.adityanath@sansad.nic.in"
      ]
     },
     "execution_count": 3,
     "metadata": {},
     "output_type": "execute_result"
    }
   ],
   "source": [
    "df = pd.read_csv(\"../data/everypol_unique_emails.csv\")\n",
    "df.head()"
   ]
  },
  {
   "cell_type": "code",
   "execution_count": 4,
   "id": "9cb5cf01",
   "metadata": {},
   "outputs": [],
   "source": [
    "with open(\"hibp_key\", \"r\") as key_file:\n",
    "    hibp_api_key = key_file.read().strip()\n",
    "\n",
    "url = \"https://haveibeenpwned.com/api/v3/breachedaccount/<account>\"\n",
    "payload = {}\n",
    "headers = {\n",
    "    'hibp-api-key': hibp_api_key,\n",
    "    'format': 'application/json',\n",
    "    'timeout': '2.5',\n",
    "    'HIBP': hibp_api_key,\n",
    "}"
   ]
  },
  {
   "cell_type": "code",
   "execution_count": 5,
   "id": "aa02a2b8",
   "metadata": {},
   "outputs": [],
   "source": [
    "# Rate limit\n",
    "rate_limit_interval = 3\n",
    "last_request_time = time.time()"
   ]
  },
  {
   "cell_type": "code",
   "execution_count": 6,
   "id": "23b5956e",
   "metadata": {},
   "outputs": [],
   "source": [
    "output_folder = \"../data/everypol_hibp/\"\n",
    "os.makedirs(output_folder, exist_ok=True)"
   ]
  },
  {
   "cell_type": "code",
   "execution_count": null,
   "id": "5f356c01",
   "metadata": {},
   "outputs": [],
   "source": [
    "for index, row in df.iterrows():\n",
    "    email = row['email']\n",
    "    url = f\"https://haveibeenpwned.com/api/v3/breachedaccount/{email}\"\n",
    "    file_path = os.path.join(output_folder, f\"{email}.json\")\n",
    "\n",
    "    if os.path.exists(file_path):\n",
    "        logging.info(f\"Skipping {email} (already processed)\")\n",
    "        continue\n",
    "\n",
    "    while True:\n",
    "        now = time.time()\n",
    "        elapsed_time = now - last_request_time\n",
    "        if elapsed_time < rate_limit_interval:\n",
    "            time.sleep(rate_limit_interval - elapsed_time)\n",
    "\n",
    "        try:\n",
    "            response = requests.get(url, headers=headers, data=payload)\n",
    "            last_request_time = time.time()\n",
    "\n",
    "            if response.status_code == 404:\n",
    "                logging.info(f\"No breach found for {email} (404).\")\n",
    "                break\n",
    "\n",
    "            if response.status_code == 429:\n",
    "                retry_after = int(response.headers.get(\"Retry-After\", 1))\n",
    "                logging.warning(f\"Rate limit hit. Retrying after {retry_after} seconds.\")\n",
    "                time.sleep(retry_after)\n",
    "                continue\n",
    "\n",
    "            response.raise_for_status()\n",
    "\n",
    "            with open(file_path, \"wb\") as f:\n",
    "                f.write(response.content)\n",
    "            logging.info(f\"Processed {email} (index {index})\")\n",
    "            break\n",
    "\n",
    "        except requests.exceptions.RequestException as e:\n",
    "            logging.error(\n",
    "                f\"Error for {email} (index {index}): {e}, Status Code: {response.status_code if 'response' in locals() else 'N/A'}\"\n",
    "            )\n",
    "            break"
   ]
  },
  {
   "cell_type": "code",
   "execution_count": null,
   "id": "f719a33a",
   "metadata": {},
   "outputs": [],
   "source": []
  }
 ],
 "metadata": {
  "kernelspec": {
   "display_name": "Python 3 (ipykernel)",
   "language": "python",
   "name": "python3"
  },
  "language_info": {
   "codemirror_mode": {
    "name": "ipython",
    "version": 3
   },
   "file_extension": ".py",
   "mimetype": "text/x-python",
   "name": "python",
   "nbconvert_exporter": "python",
   "pygments_lexer": "ipython3",
   "version": "3.9.13"
  }
 },
 "nbformat": 4,
 "nbformat_minor": 5
}
