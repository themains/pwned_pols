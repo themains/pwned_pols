{
 "cells": [
  {
   "cell_type": "markdown",
   "id": "b2e2cb54",
   "metadata": {},
   "source": [
    "### Get HIBP data for everypol (Including metadata on breaches) + Merge"
   ]
  },
  {
   "cell_type": "code",
   "execution_count": null,
   "id": "0d8ed596",
   "metadata": {},
   "outputs": [],
   "source": [
    "import os\n",
    "import json\n",
    "import re\n",
    "import requests\n",
    "import time\n",
    "import logging\n",
    "import pandas as pd"
   ]
  },
  {
   "cell_type": "code",
   "execution_count": null,
   "id": "34988300",
   "metadata": {},
   "outputs": [],
   "source": [
    "logging.basicConfig(\n",
    "    filename=\"hibp_errors.log\",\n",
    "    level=logging.INFO,\n",
    "    format=\"%(asctime)s - %(levelname)s - %(message)s\"\n",
    ")"
   ]
  },
  {
   "cell_type": "code",
   "execution_count": null,
   "id": "a41bcaf5",
   "metadata": {},
   "outputs": [],
   "source": [
    "df = pd.read_csv(\"../data/everypol_unique_emails.csv\")\n",
    "df.head()"
   ]
  },
  {
   "cell_type": "code",
   "execution_count": null,
   "id": "ac8410be",
   "metadata": {},
   "outputs": [],
   "source": [
    "with open(\"hibp_key\", \"r\") as key_file:\n",
    "    hibp_api_key = key_file.read().strip()\n",
    "\n",
    "url = \"https://haveibeenpwned.com/api/v3/breachedaccount/<account>\"\n",
    "payload = {}\n",
    "headers = {\n",
    "    'hibp-api-key': hibp_api_key,\n",
    "    'format': 'application/json',\n",
    "    'timeout': '2.5',\n",
    "    'HIBP': hibp_api_key,\n",
    "}"
   ]
  },
  {
   "cell_type": "code",
   "execution_count": null,
   "id": "93d58cc6",
   "metadata": {},
   "outputs": [],
   "source": [
    "# Rate limit\n",
    "rate_limit_interval = 6\n",
    "last_request_time = time.time()"
   ]
  },
  {
   "cell_type": "code",
   "execution_count": null,
   "id": "8d61c7db",
   "metadata": {},
   "outputs": [],
   "source": [
    "output_folder = \"../data/everypol_hibp/\"\n",
    "os.makedirs(output_folder, exist_ok=True)"
   ]
  },
  {
   "cell_type": "code",
   "execution_count": null,
   "id": "e64f8c00",
   "metadata": {},
   "outputs": [],
   "source": [
    "for index, row in df.iterrows():\n",
    "    email = row['email']\n",
    "    url = f\"https://haveibeenpwned.com/api/v3/breachedaccount/{email}\"\n",
    "    file_path = os.path.join(output_folder, f\"{email}.json\")\n",
    "\n",
    "    if os.path.exists(file_path):\n",
    "        logging.info(f\"Skipping {email} (already processed)\")\n",
    "        continue\n",
    "\n",
    "    while True:\n",
    "        now = time.time()\n",
    "        elapsed_time = now - last_request_time\n",
    "        if elapsed_time < rate_limit_interval:\n",
    "            time.sleep(rate_limit_interval - elapsed_time)\n",
    "\n",
    "        try:\n",
    "            response = requests.get(url, headers=headers, data=payload)\n",
    "            last_request_time = time.time()\n",
    "\n",
    "            if response.status_code == 404:\n",
    "                logging.info(f\"No breach found for {email} (404).\")\n",
    "                break\n",
    "\n",
    "            if response.status_code == 429:\n",
    "                retry_after = int(response.headers.get(\"Retry-After\", 1))\n",
    "                logging.warning(f\"Rate limit hit. Retrying after {retry_after} seconds.\")\n",
    "                time.sleep(retry_after + 2)\n",
    "                continue\n",
    "\n",
    "            response.raise_for_status()\n",
    "\n",
    "            with open(file_path, \"wb\") as f:\n",
    "                f.write(response.content)\n",
    "            logging.info(f\"Processed {email} (index {index})\")\n",
    "            break\n",
    "\n",
    "        except requests.exceptions.RequestException as e:\n",
    "            logging.error(\n",
    "                f\"Error for {email} (index {index}): {e}, Status Code: {response.status_code if 'response' in locals() else 'N/A'}\"\n",
    "            )\n",
    "            break"
   ]
  },
  {
   "cell_type": "markdown",
   "id": "0954d046",
   "metadata": {},
   "source": [
    "### Get all the breaches"
   ]
  },
  {
   "cell_type": "code",
   "execution_count": null,
   "id": "4ab048ff",
   "metadata": {},
   "outputs": [],
   "source": [
    "url = \"https://haveibeenpwned.com/api/v3/breaches\"\n",
    "payload = {}\n",
    "headers = {\n",
    "    'hibp-api-key': hibp_api_key,\n",
    "    'format': 'application/json',\n",
    "    'timeout': '2.5',\n",
    "    'HIBP': hibp_api_key,\n",
    "    \"user-agent\": \"PythonScript\"\n",
    "}\n",
    "\n",
    "response = requests.get(url, headers=headers)\n",
    "breaches_data = response.json()"
   ]
  },
  {
   "cell_type": "code",
   "execution_count": null,
   "id": "2cce6567",
   "metadata": {},
   "outputs": [],
   "source": [
    "breaches_df = pd.DataFrame(breaches_data)\n",
    "\n",
    "breaches_df.head()"
   ]
  },
  {
   "cell_type": "code",
   "execution_count": null,
   "id": "234ea369",
   "metadata": {},
   "outputs": [],
   "source": [
    "breaches_df.to_csv(\"../data/hipb_01_2025_breaches_data.csv\", index=False)"
   ]
  }
 ],
 "metadata": {
  "kernelspec": {
   "display_name": "Python 3 (ipykernel)",
   "language": "python",
   "name": "python3"
  },
  "language_info": {
   "codemirror_mode": {
    "name": "ipython",
    "version": 3
   },
   "file_extension": ".py",
   "mimetype": "text/x-python",
   "name": "python",
   "nbconvert_exporter": "python",
   "pygments_lexer": "ipython3",
   "version": "3.9.13"
  }
 },
 "nbformat": 4,
 "nbformat_minor": 5
}
