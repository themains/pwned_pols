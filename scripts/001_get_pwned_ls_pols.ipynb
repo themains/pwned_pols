{
 "cells": [
  {
   "cell_type": "markdown",
   "id": "8ebf3dd8-cfe3-4a08-a8d0-36a24f8e53cd",
   "metadata": {},
   "source": [
    "### How Many Indian Politician Accounts Have Been Hacked?"
   ]
  },
  {
   "cell_type": "code",
   "execution_count": 1,
   "id": "bfb5287b-2d82-4a20-b9f6-26756bad843c",
   "metadata": {},
   "outputs": [
    {
     "name": "stdout",
     "output_type": "stream",
     "text": [
      "ls_17.json\n",
      "ls_16.json\n",
      "ls_13.json\n",
      "ls_14.json\n",
      "ls_15.json\n",
      "ls_12.json\n"
     ]
    }
   ],
   "source": [
    "import os\n",
    "import json\n",
    "import re\n",
    "import requests\n",
    "import time\n",
    "import pandas as pd\n",
    "\n",
    "df_list = []\n",
    "\n",
    "for filename in os.listdir(\"daughters/data/\"):\n",
    "    print(filename)\n",
    "    with open(os.path.join(\"daughters/data/\", filename), \"r\") as f:\n",
    "            data = json.load(f)\n",
    "    df = pd.DataFrame(data['membersDtoList'])\n",
    "    df['ls'] = filename[3:-5]\n",
    "    df_list.append(df)\n",
    "\n",
    "df = pd.concat(df_list)"
   ]
  },
  {
   "cell_type": "code",
   "execution_count": 2,
   "id": "cae4486b-a91e-4926-ab7d-22e6de20cce9",
   "metadata": {},
   "outputs": [],
   "source": [
    "df_emails = df['email'].explode().reset_index()\n",
    "df_emails = df_emails['email'].str.split(r'</br>').explode().reset_index()\n",
    "df_emails['email'] = df_emails['email'].str.strip()\n",
    "df_emails['email_fix'] = df_emails['email'].str.replace('\\[at\\]', '@', regex=True).str.replace('\\[dot\\]', '.', regex=True)\n",
    "df_emails['email_fix'] = df_emails['email_fix'].str.extract(r'([a-zA-Z0-9._%+-]+@[a-zA-Z0-9.-]+\\.[a-zA-Z]{2,})')"
   ]
  },
  {
   "cell_type": "code",
   "execution_count": 3,
   "id": "f3c367a0-717e-409d-b27a-8bc4def52f80",
   "metadata": {},
   "outputs": [],
   "source": [
    "df = df.reset_index()"
   ]
  },
  {
   "cell_type": "code",
   "execution_count": 4,
   "id": "151e4e8f-3325-4a28-95ec-c39cfdf77992",
   "metadata": {},
   "outputs": [],
   "source": [
    "df_joined = df.join(df_emails,on='index', how='outer', lsuffix='_left', rsuffix='_right')\n",
    "df_joined = df_joined.reset_index()"
   ]
  },
  {
   "cell_type": "code",
   "execution_count": 5,
   "id": "5dfcc918-cfef-4d7c-8c47-900f99b0d819",
   "metadata": {},
   "outputs": [
    {
     "data": {
      "text/plain": [
       "0"
      ]
     },
     "execution_count": 5,
     "metadata": {},
     "output_type": "execute_result"
    }
   ],
   "source": [
    "df_small = df_joined[df_joined['email_fix'].notnull()]\n",
    "df_small['email_fix'].isna().sum()"
   ]
  },
  {
   "cell_type": "code",
   "execution_count": null,
   "id": "c75e3c55-6ff7-495b-af6c-7bce657842a5",
   "metadata": {},
   "outputs": [],
   "source": [
    "# HIBP\n",
    "url = \"https://haveibeenpwned.com/api/v3/breachedaccount/<account>\"\n",
    "hibp_api_key = 'cfd19b48bb234115a2a509d1f2b5fa11'\n",
    "payload={}\n",
    "headers = {\n",
    "  'hibp-api-key': str(hibp_api_key),\n",
    "  'format': 'application/json',\n",
    "  'timeout': '2.5',\n",
    "  'HIBP': str(hibp_api_key),\n",
    "}"
   ]
  },
  {
   "cell_type": "code",
   "execution_count": null,
   "id": "81f69724-4a2e-4d69-a824-f58dbd233268",
   "metadata": {},
   "outputs": [],
   "source": [
    "for index, row in df_small.iterrows():\n",
    "    email = row['email_fix']\n",
    "    url = f\"https://haveibeenpwned.com/api/v3/breachedaccount/{email}\"\n",
    "    response = requests.request(\"GET\", url, headers=headers, data=payload)\n",
    "    time.sleep(6)\n",
    "    print(index)\n",
    "    with open(f\"pwned/{email}.json\", \"wb\") as f:\n",
    "        f.write(response.content)"
   ]
  },
  {
   "cell_type": "code",
   "execution_count": null,
   "id": "47d0df53-fe7c-4725-8736-98cd50a447bf",
   "metadata": {},
   "outputs": [],
   "source": []
  }
 ],
 "metadata": {
  "kernelspec": {
   "display_name": "Python 3 (ipykernel)",
   "language": "python",
   "name": "python3"
  },
  "language_info": {
   "codemirror_mode": {
    "name": "ipython",
    "version": 3
   },
   "file_extension": ".py",
   "mimetype": "text/x-python",
   "name": "python",
   "nbconvert_exporter": "python",
   "pygments_lexer": "ipython3",
   "version": "3.8.10"
  }
 },
 "nbformat": 4,
 "nbformat_minor": 5
}
