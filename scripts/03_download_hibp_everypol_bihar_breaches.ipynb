{
 "cells": [
  {
   "cell_type": "markdown",
   "id": "4ec4a520",
   "metadata": {},
   "source": [
    "### Get HIBP Data \n",
    "\n",
    "1. For everypol\n",
    "2. For all breaches\n",
    "3. For all bihar pols"
   ]
  },
  {
   "cell_type": "code",
   "execution_count": 1,
   "id": "5237755e",
   "metadata": {},
   "outputs": [],
   "source": [
    "import os\n",
    "import json\n",
    "import re\n",
    "import requests\n",
    "import time\n",
    "import logging\n",
    "import pandas as pd"
   ]
  },
  {
   "cell_type": "code",
   "execution_count": 2,
   "id": "3d098a36",
   "metadata": {},
   "outputs": [],
   "source": [
    "logging.basicConfig(\n",
    "    filename=\"hibp_errors.log\",\n",
    "    level=logging.INFO,\n",
    "    format=\"%(asctime)s - %(levelname)s - %(message)s\"\n",
    ")"
   ]
  },
  {
   "cell_type": "code",
   "execution_count": 3,
   "id": "f6983671",
   "metadata": {},
   "outputs": [],
   "source": [
    "with open(\"hibp_key\", \"r\") as key_file:\n",
    "    hibp_api_key = key_file.read().strip()\n",
    "\n",
    "url = \"https://haveibeenpwned.com/api/v3/breachedaccount/<account>\"\n",
    "payload = {}\n",
    "headers = {\n",
    "    'hibp-api-key': hibp_api_key,\n",
    "    'format': 'application/json',\n",
    "    'timeout': '2.5',\n",
    "    'HIBP': hibp_api_key,\n",
    "    'user-agent': 'PythonScript'\n",
    "}"
   ]
  },
  {
   "cell_type": "code",
   "execution_count": 4,
   "id": "3123b66c",
   "metadata": {},
   "outputs": [],
   "source": [
    "# Rate limit\n",
    "rate_limit_interval = 6\n",
    "last_request_time = time.time()"
   ]
  },
  {
   "cell_type": "code",
   "execution_count": 5,
   "id": "c489d15f",
   "metadata": {},
   "outputs": [],
   "source": [
    "def process_breached_accounts(df, output_folder, headers, payload, rate_limit_interval):\n",
    "    \"\"\"\n",
    "    Process emails from a DataFrame by querying the HIBP API for breached accounts.\n",
    "\n",
    "    Args:\n",
    "        df (pd.DataFrame): DataFrame containing an 'email' column.\n",
    "        output_folder (str): Path to the folder for saving JSON results.\n",
    "        headers (dict): Headers for the API request.\n",
    "        payload (dict): Additional payload for the API request.\n",
    "        rate_limit_interval (float): Minimum time interval between API requests (in seconds).\n",
    "\n",
    "    Returns:\n",
    "        None\n",
    "    \"\"\"\n",
    "    last_request_time = time.time() - rate_limit_interval  # Allow the first request immediately\n",
    "\n",
    "    for index, row in df.iterrows():\n",
    "        email = row['email']\n",
    "        url = f\"https://haveibeenpwned.com/api/v3/breachedaccount/{email}\"\n",
    "        file_path = os.path.join(output_folder, f\"{email}.json\")\n",
    "\n",
    "        if os.path.exists(file_path):\n",
    "            logging.info(f\"Skipping {email} (already processed)\")\n",
    "            continue\n",
    "\n",
    "        while True:\n",
    "            now = time.time()\n",
    "            elapsed_time = now - last_request_time\n",
    "            if elapsed_time < rate_limit_interval:\n",
    "                time.sleep(rate_limit_interval - elapsed_time)\n",
    "\n",
    "            try:\n",
    "                response = requests.get(url, headers=headers, data=payload)\n",
    "                last_request_time = time.time()\n",
    "\n",
    "                if response.status_code == 404:\n",
    "                    logging.info(f\"No breach found for {email} (404).\")\n",
    "                    break\n",
    "\n",
    "                if response.status_code == 429:\n",
    "                    retry_after = int(response.headers.get(\"Retry-After\", 1))\n",
    "                    logging.warning(f\"Rate limit hit. Retrying after {retry_after} seconds.\")\n",
    "                    time.sleep(retry_after + 2)\n",
    "                    continue\n",
    "\n",
    "                response.raise_for_status()\n",
    "\n",
    "                with open(file_path, \"wb\") as f:\n",
    "                    f.write(response.content)\n",
    "                logging.info(f\"Processed {email} (index {index})\")\n",
    "                break\n",
    "\n",
    "            except requests.exceptions.RequestException as e:\n",
    "                logging.error(\n",
    "                    f\"Error for {email} (index {index}): {e}, \"\n",
    "                    f\"Status Code: {response.status_code if 'response' in locals() else 'N/A'}\"\n",
    "                )\n",
    "                break"
   ]
  },
  {
   "cell_type": "code",
   "execution_count": null,
   "id": "4f73c52b",
   "metadata": {},
   "outputs": [],
   "source": [
    "df = pd.read_csv(\"../data/everypol_unique_emails.csv\")\n",
    "df.head()"
   ]
  },
  {
   "cell_type": "code",
   "execution_count": null,
   "id": "ea2b0bad",
   "metadata": {},
   "outputs": [],
   "source": [
    "output_folder = \"../data/everypol_hibp/\"\n",
    "os.makedirs(output_folder, exist_ok=True)\n",
    "process_breached_accounts(df, output_folder, headers, payload, rate_limit_interval)"
   ]
  },
  {
   "cell_type": "markdown",
   "id": "a51a7411",
   "metadata": {},
   "source": [
    "### Get all the breaches"
   ]
  },
  {
   "cell_type": "code",
   "execution_count": null,
   "id": "8be91624",
   "metadata": {},
   "outputs": [],
   "source": [
    "breach_url = \"https://haveibeenpwned.com/api/v3/breaches\"\n",
    "\n",
    "response = requests.get(breach_url, headers=headers)\n",
    "breaches_data = response.json()"
   ]
  },
  {
   "cell_type": "code",
   "execution_count": null,
   "id": "5b975d8a",
   "metadata": {},
   "outputs": [],
   "source": [
    "breaches_df = pd.DataFrame(breaches_data)\n",
    "breaches_df.head()"
   ]
  },
  {
   "cell_type": "code",
   "execution_count": null,
   "id": "186348b3",
   "metadata": {},
   "outputs": [],
   "source": [
    "breaches_df.to_csv(\"../data/hipb_01_2025_breaches_data.csv\", index=False)"
   ]
  },
  {
   "cell_type": "markdown",
   "id": "b1e51436",
   "metadata": {},
   "source": [
    "### Get data for Bihar\n",
    "\n",
    "From: https://vidhansabha.bih.nic.in/KnowyourMLA%20in%20Hindi.html"
   ]
  },
  {
   "cell_type": "code",
   "execution_count": 6,
   "id": "e13b6c4d",
   "metadata": {},
   "outputs": [
    {
     "data": {
      "text/html": [
       "<div>\n",
       "<style scoped>\n",
       "    .dataframe tbody tr th:only-of-type {\n",
       "        vertical-align: middle;\n",
       "    }\n",
       "\n",
       "    .dataframe tbody tr th {\n",
       "        vertical-align: top;\n",
       "    }\n",
       "\n",
       "    .dataframe thead th {\n",
       "        text-align: right;\n",
       "    }\n",
       "</style>\n",
       "<table border=\"1\" class=\"dataframe\">\n",
       "  <thead>\n",
       "    <tr style=\"text-align: right;\">\n",
       "      <th></th>\n",
       "      <th>email</th>\n",
       "    </tr>\n",
       "  </thead>\n",
       "  <tbody>\n",
       "    <tr>\n",
       "      <th>0</th>\n",
       "      <td>mla-vnagar-bih@nic.in</td>\n",
       "    </tr>\n",
       "    <tr>\n",
       "      <th>1</th>\n",
       "      <td>mla-ramnagar-bih@nic.in</td>\n",
       "    </tr>\n",
       "    <tr>\n",
       "      <th>2</th>\n",
       "      <td>mla-nktganj-bih@nic.in</td>\n",
       "    </tr>\n",
       "    <tr>\n",
       "      <th>3</th>\n",
       "      <td>mla-bagaha-bih@nic.in</td>\n",
       "    </tr>\n",
       "    <tr>\n",
       "      <th>4</th>\n",
       "      <td>mla-lauriya-bih@nic.in</td>\n",
       "    </tr>\n",
       "    <tr>\n",
       "      <th>...</th>\n",
       "      <td>...</td>\n",
       "    </tr>\n",
       "    <tr>\n",
       "      <th>238</th>\n",
       "      <td>mla-wrsaliganj-bih@nic.in</td>\n",
       "    </tr>\n",
       "    <tr>\n",
       "      <th>239</th>\n",
       "      <td>mla-sikandara-bih@nic.in</td>\n",
       "    </tr>\n",
       "    <tr>\n",
       "      <th>240</th>\n",
       "      <td>mla-jamui-bih@nic.in</td>\n",
       "    </tr>\n",
       "    <tr>\n",
       "      <th>241</th>\n",
       "      <td>mla-jhajha-bih@nic.in</td>\n",
       "    </tr>\n",
       "    <tr>\n",
       "      <th>242</th>\n",
       "      <td>mla-chakai-bih@nic.in</td>\n",
       "    </tr>\n",
       "  </tbody>\n",
       "</table>\n",
       "<p>243 rows × 1 columns</p>\n",
       "</div>"
      ],
      "text/plain": [
       "                         email\n",
       "0        mla-vnagar-bih@nic.in\n",
       "1      mla-ramnagar-bih@nic.in\n",
       "2       mla-nktganj-bih@nic.in\n",
       "3        mla-bagaha-bih@nic.in\n",
       "4       mla-lauriya-bih@nic.in\n",
       "..                         ...\n",
       "238  mla-wrsaliganj-bih@nic.in\n",
       "239   mla-sikandara-bih@nic.in\n",
       "240       mla-jamui-bih@nic.in\n",
       "241      mla-jhajha-bih@nic.in\n",
       "242      mla-chakai-bih@nic.in\n",
       "\n",
       "[243 rows x 1 columns]"
      ]
     },
     "execution_count": 6,
     "metadata": {},
     "output_type": "execute_result"
    }
   ],
   "source": [
    "with open('../data/bihar/bihar.txt', 'r', encoding='utf-8') as file:\n",
    "    lines = file.read().splitlines()\n",
    "    lines = [line.split('\\t') for line in lines]\n",
    "\n",
    "bihar_df = pd.DataFrame(lines, columns=['Sr. No.', 'Photo', 'Constituency', 'Name', 'Gender', 'Party', 'Contact', 'Email'])\n",
    "\n",
    "bihar_df.columns = bihar_df.columns.str.lower()\n",
    "\n",
    "bihar_df[['email']]"
   ]
  },
  {
   "cell_type": "code",
   "execution_count": null,
   "id": "392c7b6f",
   "metadata": {},
   "outputs": [],
   "source": [
    "output_folder = \"../data/bihar_hibp/\"\n",
    "os.makedirs(output_folder, exist_ok=True)\n",
    "process_breached_accounts(bihar_df[['email']], output_folder, headers, payload, rate_limit_interval)"
   ]
  },
  {
   "cell_type": "code",
   "execution_count": null,
   "id": "822acafe",
   "metadata": {},
   "outputs": [],
   "source": []
  }
 ],
 "metadata": {
  "kernelspec": {
   "display_name": "Python 3 (ipykernel)",
   "language": "python",
   "name": "python3"
  },
  "language_info": {
   "codemirror_mode": {
    "name": "ipython",
    "version": 3
   },
   "file_extension": ".py",
   "mimetype": "text/x-python",
   "name": "python",
   "nbconvert_exporter": "python",
   "pygments_lexer": "ipython3",
   "version": "3.9.13"
  }
 },
 "nbformat": 4,
 "nbformat_minor": 5
}
