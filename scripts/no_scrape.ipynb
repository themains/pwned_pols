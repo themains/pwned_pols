{
 "cells": [
  {
   "cell_type": "code",
   "execution_count": 1,
   "id": "b4673e4b",
   "metadata": {},
   "outputs": [],
   "source": [
    "import requests\n",
    "from bs4 import BeautifulSoup\n",
    "import pandas as pd"
   ]
  },
  {
   "cell_type": "code",
   "execution_count": 2,
   "id": "d54b632b",
   "metadata": {},
   "outputs": [],
   "source": [
    "def scrape_representatives(url):\n",
    "   # Set up headers to mimic a browser request\n",
    "   headers = {\n",
    "       'User-Agent': 'Mozilla/5.0 (Windows NT 10.0; Win64; x64) AppleWebKit/537.36 (KHTML, like Gecko) Chrome/91.0.4472.124 Safari/537.36'\n",
    "   }\n",
    "   \n",
    "   try:\n",
    "       # Fetch the webpage\n",
    "       response = requests.get(url, headers=headers)\n",
    "       response.raise_for_status()  # Raise an exception for bad status codes\n",
    "       \n",
    "       # Parse the HTML content\n",
    "       soup = BeautifulSoup(response.text, 'html.parser')\n",
    "       representatives = []\n",
    "       \n",
    "       # Find all table rows\n",
    "       rows = soup.find_all('tr')\n",
    "       \n",
    "       for row in rows:\n",
    "           # Skip header rows\n",
    "           if row.find('th'):\n",
    "               continue\n",
    "               \n",
    "           # Get all td elements\n",
    "           cells = row.find_all('td')\n",
    "           if cells and len(cells) >= 3:\n",
    "               name = cells[0].text.strip()\n",
    "               party = cells[1].text.strip()\n",
    "               email = cells[2].find('a')['href'].replace('mailto:', '') if cells[2].find('a') else ''\n",
    "               \n",
    "               if name and email:\n",
    "                   representatives.append({\n",
    "                       'name': name,\n",
    "                       'party': party,\n",
    "                       'email': email\n",
    "                   })\n",
    "       \n",
    "       return representatives\n",
    "       \n",
    "   except requests.RequestException as e:\n",
    "       print(f\"Error fetching the webpage: {e}\")\n",
    "       return []\n",
    "   except Exception as e:\n",
    "       print(f\"Error processing the data: {e}\")\n",
    "       return []"
   ]
  },
  {
   "cell_type": "code",
   "execution_count": 3,
   "id": "44765fb0",
   "metadata": {},
   "outputs": [],
   "source": [
    "url = \"https://www.stortinget.no/no/Stottemeny/kontakt/representanter-og-partigrupper/Representantenes-e-postadresser/\"  \n",
    "results = scrape_representatives(url)"
   ]
  },
  {
   "cell_type": "code",
   "execution_count": 4,
   "id": "bdcf5c89",
   "metadata": {},
   "outputs": [
    {
     "data": {
      "text/html": [
       "<div>\n",
       "<style scoped>\n",
       "    .dataframe tbody tr th:only-of-type {\n",
       "        vertical-align: middle;\n",
       "    }\n",
       "\n",
       "    .dataframe tbody tr th {\n",
       "        vertical-align: top;\n",
       "    }\n",
       "\n",
       "    .dataframe thead th {\n",
       "        text-align: right;\n",
       "    }\n",
       "</style>\n",
       "<table border=\"1\" class=\"dataframe\">\n",
       "  <thead>\n",
       "    <tr style=\"text-align: right;\">\n",
       "      <th></th>\n",
       "      <th>name</th>\n",
       "      <th>party</th>\n",
       "      <th>email</th>\n",
       "    </tr>\n",
       "  </thead>\n",
       "  <tbody>\n",
       "    <tr>\n",
       "      <th>0</th>\n",
       "      <td>Abusland, Anja Ninasdotter</td>\n",
       "      <td>Senterpartiet</td>\n",
       "      <td>anja.ninasdotter.abusland@stortinget.no</td>\n",
       "    </tr>\n",
       "    <tr>\n",
       "      <th>1</th>\n",
       "      <td>Almeland, Grunde</td>\n",
       "      <td>Venstre</td>\n",
       "      <td>grunde.kreken.almeland@stortinget.no</td>\n",
       "    </tr>\n",
       "    <tr>\n",
       "      <th>2</th>\n",
       "      <td>Amundsen, Per-Willy</td>\n",
       "      <td>Fremskrittspartiet</td>\n",
       "      <td>per-willy.amundsen@stortinget.no</td>\n",
       "    </tr>\n",
       "    <tr>\n",
       "      <th>3</th>\n",
       "      <td>Arnstad, Marit</td>\n",
       "      <td>Senterpartiet</td>\n",
       "      <td>marit.arnstad@stortinget.no</td>\n",
       "    </tr>\n",
       "    <tr>\n",
       "      <th>4</th>\n",
       "      <td>Asheim, Henrik</td>\n",
       "      <td>Høyre</td>\n",
       "      <td>henrik.asheim@stortinget.no</td>\n",
       "    </tr>\n",
       "  </tbody>\n",
       "</table>\n",
       "</div>"
      ],
      "text/plain": [
       "                         name               party  \\\n",
       "0  Abusland, Anja Ninasdotter       Senterpartiet   \n",
       "1            Almeland, Grunde             Venstre   \n",
       "2         Amundsen, Per-Willy  Fremskrittspartiet   \n",
       "3              Arnstad, Marit       Senterpartiet   \n",
       "4              Asheim, Henrik               Høyre   \n",
       "\n",
       "                                     email  \n",
       "0  anja.ninasdotter.abusland@stortinget.no  \n",
       "1     grunde.kreken.almeland@stortinget.no  \n",
       "2         per-willy.amundsen@stortinget.no  \n",
       "3              marit.arnstad@stortinget.no  \n",
       "4              henrik.asheim@stortinget.no  "
      ]
     },
     "execution_count": 4,
     "metadata": {},
     "output_type": "execute_result"
    }
   ],
   "source": [
    "no_parl = pd.DataFrame(results)\n",
    "no_parl.head()"
   ]
  },
  {
   "cell_type": "code",
   "execution_count": 5,
   "id": "945f4cf5",
   "metadata": {},
   "outputs": [],
   "source": [
    "no_parl.to_csv(\"../data/no_parliament.csv\", index = False)"
   ]
  },
  {
   "cell_type": "code",
   "execution_count": null,
   "id": "350e252d",
   "metadata": {},
   "outputs": [],
   "source": []
  }
 ],
 "metadata": {
  "kernelspec": {
   "display_name": "Python 3 (ipykernel)",
   "language": "python",
   "name": "python3"
  },
  "language_info": {
   "codemirror_mode": {
    "name": "ipython",
    "version": 3
   },
   "file_extension": ".py",
   "mimetype": "text/x-python",
   "name": "python",
   "nbconvert_exporter": "python",
   "pygments_lexer": "ipython3",
   "version": "3.9.13"
  }
 },
 "nbformat": 4,
 "nbformat_minor": 5
}
