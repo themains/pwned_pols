{
 "cells": [
  {
   "cell_type": "markdown",
   "id": "8ebf3dd8-cfe3-4a08-a8d0-36a24f8e53cd",
   "metadata": {},
   "source": [
    "### Get LS Data"
   ]
  },
  {
   "cell_type": "code",
   "execution_count": 1,
   "id": "bfb5287b-2d82-4a20-b9f6-26756bad843c",
   "metadata": {},
   "outputs": [],
   "source": [
    "import os\n",
    "import json\n",
    "import re\n",
    "import requests\n",
    "import time\n",
    "import pandas as pd"
   ]
  },
  {
   "cell_type": "code",
   "execution_count": 2,
   "id": "cada8e8c",
   "metadata": {},
   "outputs": [],
   "source": [
    "def json_files_to_df(folder_path):\n",
    "    \"\"\"\n",
    "    Read JSON files with member data and convert to pandas DataFrame\n",
    "    \"\"\"\n",
    "    \n",
    "    all_members = []\n",
    "    json_files = [f for f in os.listdir(folder_path) if f.endswith('.json')]\n",
    "    \n",
    "    # Process each JSON file in folder\n",
    "    for json_file in json_files:  # Only process JSON files\n",
    "        file_path = os.path.join(folder_path, json_file)\n",
    "        \n",
    "        try:\n",
    "            with open(file_path, 'r') as f:\n",
    "                data = json.load(f)\n",
    "                \n",
    "            # Extract member list and metadata from JSON structure\n",
    "            if 'membersDtoList' in data:\n",
    "                members = data['membersDtoList']\n",
    "                metadata = data['metaDatasDto']\n",
    "                \n",
    "                # Append metadata and filename to each member record\n",
    "                filename = json_file.replace('.json', '')\n",
    "                for member in members:\n",
    "                    member.update(metadata)\n",
    "                    member['source_file'] = filename\n",
    "                \n",
    "                all_members.extend(members)\n",
    "        \n",
    "        except Exception as e:\n",
    "            print(f\"Error reading {json_file}: {e}\")\n",
    "            continue\n",
    "    \n",
    "    # Convert to DataFrame\n",
    "    df = pd.DataFrame(all_members)\n",
    "    \n",
    "    # Print summary stats\n",
    "    print(f\"Total JSON files processed: {len(json_files)}\")\n",
    "    print(f\"Total members extracted: {len(df)}\")\n",
    "    \n",
    "    # Get unique MPs per file\n",
    "    unique_mps = df.groupby('source_file')['mpsno'].nunique().reset_index()\n",
    "    unique_mps.columns = ['filename', 'unique_mps']\n",
    "    print(\"\\nUnique MPs per file:\")\n",
    "    print(unique_mps)\n",
    "    \n",
    "    return df"
   ]
  },
  {
   "cell_type": "code",
   "execution_count": 3,
   "id": "768a0967",
   "metadata": {},
   "outputs": [
    {
     "name": "stdout",
     "output_type": "stream",
     "text": [
      "Total JSON files processed: 7\n",
      "Total members extracted: 3740\n",
      "\n",
      "Unique MPs per file:\n",
      "  filename  unique_mps\n",
      "0    ls_12         529\n",
      "1    ls_13         551\n",
      "2    ls_14         554\n",
      "3    ls_15         511\n",
      "4    ls_16         512\n",
      "5    ls_17         539\n",
      "6    ls_18         544\n"
     ]
    },
    {
     "data": {
      "text/plain": [
       "(3740, 42)"
      ]
     },
     "execution_count": 3,
     "metadata": {},
     "output_type": "execute_result"
    }
   ],
   "source": [
    "# Example usage:\n",
    "df = json_files_to_df(\"./\")\n",
    "\n",
    "df.shape"
   ]
  },
  {
   "cell_type": "code",
   "execution_count": 4,
   "id": "f81448ec",
   "metadata": {},
   "outputs": [],
   "source": [
    "df_long = df.explode('email')"
   ]
  },
  {
   "cell_type": "code",
   "execution_count": 5,
   "id": "cae4486b-a91e-4926-ab7d-22e6de20cce9",
   "metadata": {},
   "outputs": [],
   "source": [
    "df_long['email_fix'] = (\n",
    "    df_long['email']\n",
    "    .str.strip()\n",
    "    .str.replace(r'\\[at\\]', '@', regex=True)\n",
    "    .str.replace(r'\\[dot\\]', '.', regex=True)\n",
    "    .str.extract(r'([a-zA-Z0-9._%+-]+@[a-zA-Z0-9.-]+\\.[a-zA-Z]{2,})')\n",
    ")"
   ]
  },
  {
   "cell_type": "code",
   "execution_count": 6,
   "id": "9b3d9976",
   "metadata": {},
   "outputs": [
    {
     "data": {
      "text/plain": [
       "4655"
      ]
     },
     "execution_count": 6,
     "metadata": {},
     "output_type": "execute_result"
    }
   ],
   "source": [
    "# Valid emails or not\n",
    "df_long['email_fix'].dropna()\n",
    "email_pattern = r'^[a-zA-Z0-9._%+-]+@[a-zA-Z0-9.-]+\\.[a-zA-Z]{2,}$'\n",
    "df_long['email_fix'].str.match(email_pattern, na=False).sum()"
   ]
  },
  {
   "cell_type": "code",
   "execution_count": 7,
   "id": "47d0df53-fe7c-4725-8736-98cd50a447bf",
   "metadata": {},
   "outputs": [
    {
     "data": {
      "text/plain": [
       "(5563, 43)"
      ]
     },
     "execution_count": 7,
     "metadata": {},
     "output_type": "execute_result"
    }
   ],
   "source": [
    "df_long.shape"
   ]
  },
  {
   "cell_type": "code",
   "execution_count": 8,
   "id": "7a9fbc58",
   "metadata": {},
   "outputs": [],
   "source": [
    "df_long.to_csv(\"../ls_long.csv\", index = False)"
   ]
  },
  {
   "cell_type": "code",
   "execution_count": null,
   "id": "a79c03f1",
   "metadata": {},
   "outputs": [],
   "source": []
  }
 ],
 "metadata": {
  "kernelspec": {
   "display_name": "Python 3 (ipykernel)",
   "language": "python",
   "name": "python3"
  },
  "language_info": {
   "codemirror_mode": {
    "name": "ipython",
    "version": 3
   },
   "file_extension": ".py",
   "mimetype": "text/x-python",
   "name": "python",
   "nbconvert_exporter": "python",
   "pygments_lexer": "ipython3",
   "version": "3.9.13"
  }
 },
 "nbformat": 4,
 "nbformat_minor": 5
}
