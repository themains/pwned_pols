{
 "cells": [
  {
   "cell_type": "markdown",
   "id": "108c37ef-7c7d-4a5b-a82a-f0b300314d03",
   "metadata": {},
   "source": [
    "### TN\n",
    "\n",
    "From https://assembly.tn.gov.in/16thassembly/members.php"
   ]
  },
  {
   "cell_type": "code",
   "execution_count": 1,
   "id": "14ba7e4d-c53f-44c2-bb4b-bbcb99e8a993",
   "metadata": {},
   "outputs": [
    {
     "name": "stdout",
     "output_type": "stream",
     "text": [
      "                                            Serial No.  \\\n",
      "0                                                    1   \n",
      "1                                                    2   \n",
      "2                                                    3   \n",
      "3                                                    4   \n",
      "4                                                    5   \n",
      "..                                                 ...   \n",
      "230                                                231   \n",
      "231                                                232   \n",
      "232                                                233   \n",
      "233                                                234   \n",
      "234  $ Consequent on the demise of Thiru. E. Thirum...   \n",
      "\n",
      "                                                  Name  \\\n",
      "0    Aassan Maulaana, JMH.\\r\\n                     ...   \n",
      "1         Abdul Samad,  P.\\r\\n(DMK)   \\r\\n(Manapparai)   \n",
      "2    Abdul  Wahab,  M.\\r\\n                         ...   \n",
      "3    Agri S.S. Krishnamurthy,  \\r\\n                ...   \n",
      "4     Ambeth Kumar,  S. \\r\\n(DMK) \\r\\n(Vandavasi (SC))   \n",
      "..                                                 ...   \n",
      "230  Vijayabaskar,  C. Dr.\\r\\n\\t\\t\\t\\t      (AIADMK...   \n",
      "231  Vijayadharani,  S. \\r\\n\\t\\t\\t\\t      (INC)\\r\\n...   \n",
      "232  Vijeyakumar,  K.N.\\r\\n\\t\\t\\t\\t      (AIADMK)\\r...   \n",
      "233  Vilwanathan,  A.C.\\r\\n\\t\\t\\t\\t      (DMK)\\r\\n\\...   \n",
      "234                                               None   \n",
      "\n",
      "                                               Address  \\\n",
      "0    No.15/7, Vijayaragava Road,\\r\\n               ...   \n",
      "1    No.308, Sadam Hussain Street, Pudhupattinam, K...   \n",
      "2    No.284/79, MGP Sannathi Street,  Pettai, \\r\\n ...   \n",
      "3    No.1221, Annai Illam,\\r\\nVengikkal,\\r\\nTiruvan...   \n",
      "4    No.319,  Muthumari Amman Koil Street, \\r\\nAras...   \n",
      "..                                                 ...   \n",
      "230  No.14/28, Sowrashtra Street, \\r\\n\\t\\t\\t\\t     ...   \n",
      "231  No. 4/23B, Bheemanagari,  Thirupathisaaram Pos...   \n",
      "232  No. 8/65, A.V.P.J.S. Garden, \\r\\n\\t\\t\\t\\t    A...   \n",
      "233  No.3/15,  Raja Veethi,\\r\\n\\t\\t\\t\\t      Guttak...   \n",
      "234                                               None   \n",
      "\n",
      "                       Tel No. (R)               Email Address Photo  \n",
      "0    044 - 47455502\\r\\n98403 84523      mlavelachery@tn.gov.in        \n",
      "1                      95000 62790     mlamanapparai@tn.gov.in        \n",
      "2                      94431 67022  mlapalayamkottai@tn.gov.in        \n",
      "3                      94432 33685          mlapolur@tn.gov.in        \n",
      "4                      88070 26688      mlavandavasi@tn.gov.in        \n",
      "..                             ...                         ...   ...  \n",
      "230                    98404 84444    mlaviralimalai@tn.gov.in        \n",
      "231                    93613 21204    mlavilavancode@tn.gov.in        \n",
      "232                    93442 02567  mlatiruppurnorth@tn.gov.in        \n",
      "233                    94430 07498          mlaambur@tn.gov.in        \n",
      "234                           None                        None  None  \n",
      "\n",
      "[235 rows x 6 columns]\n"
     ]
    }
   ],
   "source": [
    "import requests\n",
    "from bs4 import BeautifulSoup\n",
    "import pandas as pd\n",
    "\n",
    "# Make the request\n",
    "url = \"http://assembly.tn.gov.in/16thassembly/members.php\"\n",
    "response = requests.get(url)\n",
    "\n",
    "# Parse the HTML content\n",
    "soup = BeautifulSoup(response.content, \"html.parser\")\n",
    "\n",
    "# Find the table and all its rows\n",
    "table = soup.find(\"table\", {\"cellpadding\": \"0\", \"cellspacing\": \"0\"})\n",
    "rows = table.find_all(\"tr\")\n",
    "\n",
    "# Extract the cell data from each row and store it in a list of lists\n",
    "data = []\n",
    "for row in rows:\n",
    "    cells = row.find_all(\"td\")\n",
    "    if cells:\n",
    "        cell_data = [cell.text.strip() for cell in cells]\n",
    "        data.append(cell_data)\n",
    "\n",
    "# Create a pandas DataFrame from the list of lists\n",
    "df = pd.DataFrame(data, columns=[\"Serial No.\", \"Name\", \"Address\", \"Tel No. (R)\", \"Email Address\", \"Photo\"])\n",
    "print(df)"
   ]
  },
  {
   "cell_type": "code",
   "execution_count": 2,
   "id": "5b1b50a0-b9d5-487b-b40d-afbeac5c217a",
   "metadata": {},
   "outputs": [],
   "source": [
    "df.to_csv(\"tn.csv\", index = False)"
   ]
  },
  {
   "cell_type": "code",
   "execution_count": null,
   "id": "072743c2-4001-4f73-b484-5fd73d278809",
   "metadata": {},
   "outputs": [],
   "source": []
  }
 ],
 "metadata": {
  "kernelspec": {
   "display_name": "Python 3 (ipykernel)",
   "language": "python",
   "name": "python3"
  },
  "language_info": {
   "codemirror_mode": {
    "name": "ipython",
    "version": 3
   },
   "file_extension": ".py",
   "mimetype": "text/x-python",
   "name": "python",
   "nbconvert_exporter": "python",
   "pygments_lexer": "ipython3",
   "version": "3.8.10"
  }
 },
 "nbformat": 4,
 "nbformat_minor": 5
}
