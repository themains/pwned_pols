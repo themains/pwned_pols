{
 "cells": [
  {
   "cell_type": "markdown",
   "id": "bd888c8c-ec28-4901-9915-4164efb8eb56",
   "metadata": {},
   "source": [
    "### Bihar\n",
    "\n",
    "From: https://vidhansabha.bih.nic.in/KnowyourMLA%20in%20Hindi.html"
   ]
  },
  {
   "cell_type": "code",
   "execution_count": 1,
   "id": "4fcd98ca-f502-4008-b710-04137d198140",
   "metadata": {},
   "outputs": [
    {
     "name": "stdout",
     "output_type": "stream",
     "text": [
      "    Sr. No. Photo      Constituency                                   Name  \\\n",
      "0        01             वाल्मीकिनगर  धीरेन्द्र प्रताप सिंह उर्फ रिंकू सिंह   \n",
      "1        02          रामनगर (अ॰जा॰)                           भागीरथी देवी   \n",
      "2        03              नरकटियागंज                            रश्मि वर्मा   \n",
      "3        04                    बगहा                               राम सिंह   \n",
      "4        05                  लौरिया                            विनय बिहारी   \n",
      "..      ...   ...               ...                                    ...   \n",
      "238     239              वारिसलीगंज                             अरूणा देवी   \n",
      "239     240        सिकन्दरा (अ॰जा॰)                   प्रफुल्ल कुमार मांझी   \n",
      "240     241                    जमुई                           श्रेयसी सिंह   \n",
      "241     242                    झाझा                            दामोदर रावत   \n",
      "242     243                    चकाई                       सुमित कुमार सिंह   \n",
      "\n",
      "    Gender     Party     Contact                      Email  \n",
      "0    पुरुष    जद(यू)  9798105666      mla-vnagar-bih@nic.in  \n",
      "1    महिला     भाजपा  9931378642    mla-ramnagar-bih@nic.in  \n",
      "2    महिला     भाजपा  7484005022     mla-nktganj-bih@nic.in  \n",
      "3    पुरुष     भाजपा  9430025191      mla-bagaha-bih@nic.in  \n",
      "4    पुरुष     भाजपा  9431203456     mla-lauriya-bih@nic.in  \n",
      "..     ...       ...         ...                        ...  \n",
      "238  महिला     भाजपा  7783832672  mla-wrsaliganj-bih@nic.in  \n",
      "239  पुरुष    हम(एस)  9430533801   mla-sikandara-bih@nic.in  \n",
      "240  महिला     भाजपा  9868265552       mla-jamui-bih@nic.in  \n",
      "241  पुरुष    जद(यू)  9431012172      mla-jhajha-bih@nic.in  \n",
      "242  पुरुष  निर्दलीय  9771575757      mla-chakai-bih@nic.in  \n",
      "\n",
      "[243 rows x 8 columns]\n"
     ]
    }
   ],
   "source": [
    "import pandas as pd\n",
    "\n",
    "# read the text file and split the lines on whitespace\n",
    "with open('bihar.txt', 'r', encoding='utf-8') as file:\n",
    "    lines = file.read().splitlines()\n",
    "    lines = [line.split('\\t') for line in lines]\n",
    "\n",
    "# create the pandas dataframe\n",
    "df = pd.DataFrame(lines, columns=['Sr. No.', 'Photo', 'Constituency', 'Name', 'Gender', 'Party', 'Contact', 'Email'])\n",
    "\n",
    "# display the dataframe\n",
    "print(df)"
   ]
  },
  {
   "cell_type": "code",
   "execution_count": null,
   "id": "eddbc730-76e2-4a73-82a6-6f422bc94949",
   "metadata": {},
   "outputs": [],
   "source": []
  }
 ],
 "metadata": {
  "kernelspec": {
   "display_name": "Python 3 (ipykernel)",
   "language": "python",
   "name": "python3"
  },
  "language_info": {
   "codemirror_mode": {
    "name": "ipython",
    "version": 3
   },
   "file_extension": ".py",
   "mimetype": "text/x-python",
   "name": "python",
   "nbconvert_exporter": "python",
   "pygments_lexer": "ipython3",
   "version": "3.8.10"
  }
 },
 "nbformat": 4,
 "nbformat_minor": 5
}
